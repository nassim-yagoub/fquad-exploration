{
 "cells": [
  {
   "cell_type": "code",
   "execution_count": 1,
   "metadata": {},
   "outputs": [],
   "source": [
    "import numpy as np\n",
    "import pandas as pd\n",
    "import matplotlib.pyplot as plt\n",
    "from tqdm import tqdm"
   ]
  },
  {
   "cell_type": "markdown",
   "metadata": {},
   "source": [
    "## Data exploration"
   ]
  },
  {
   "cell_type": "code",
   "execution_count": 2,
   "metadata": {},
   "outputs": [],
   "source": [
    "train_df = pd.read_json(\"../data/train.json\")\n",
    "valid_df = pd.read_json(\"../data/valid.json\")"
   ]
  },
  {
   "cell_type": "code",
   "execution_count": 3,
   "metadata": {},
   "outputs": [
    {
     "data": {
      "text/plain": [
       "117"
      ]
     },
     "execution_count": 3,
     "metadata": {},
     "output_type": "execute_result"
    }
   ],
   "source": [
    "len(train_df)"
   ]
  },
  {
   "cell_type": "code",
   "execution_count": 4,
   "metadata": {},
   "outputs": [],
   "source": [
    "#train_df = train_df[:50]"
   ]
  },
  {
   "cell_type": "code",
   "execution_count": 5,
   "metadata": {
    "scrolled": true
   },
   "outputs": [
    {
     "data": {
      "text/plain": [
       "4921"
      ]
     },
     "execution_count": 5,
     "metadata": {},
     "output_type": "execute_result"
    }
   ],
   "source": [
    "nb_para = 0\n",
    "for i in range(len(train_df)):\n",
    "    nb_para += len(train_df.iloc[i]['data']['paragraphs'])\n",
    "    \n",
    "nb_para"
   ]
  },
  {
   "cell_type": "code",
   "execution_count": 6,
   "metadata": {},
   "outputs": [
    {
     "data": {
      "text/html": [
       "<div>\n",
       "<style scoped>\n",
       "    .dataframe tbody tr th:only-of-type {\n",
       "        vertical-align: middle;\n",
       "    }\n",
       "\n",
       "    .dataframe tbody tr th {\n",
       "        vertical-align: top;\n",
       "    }\n",
       "\n",
       "    .dataframe thead th {\n",
       "        text-align: right;\n",
       "    }\n",
       "</style>\n",
       "<table border=\"1\" class=\"dataframe\">\n",
       "  <thead>\n",
       "    <tr style=\"text-align: right;\">\n",
       "      <th></th>\n",
       "      <th>data</th>\n",
       "      <th>version</th>\n",
       "    </tr>\n",
       "  </thead>\n",
       "  <tbody>\n",
       "    <tr>\n",
       "      <th>0</th>\n",
       "      <td>{'paragraphs': [{'qas': [{'question': \"Quel as...</td>\n",
       "      <td>1</td>\n",
       "    </tr>\n",
       "    <tr>\n",
       "      <th>1</th>\n",
       "      <td>{'paragraphs': [{'qas': [{'question': 'America...</td>\n",
       "      <td>1</td>\n",
       "    </tr>\n",
       "    <tr>\n",
       "      <th>2</th>\n",
       "      <td>{'paragraphs': [{'qas': [{'question': \"A quell...</td>\n",
       "      <td>1</td>\n",
       "    </tr>\n",
       "    <tr>\n",
       "      <th>3</th>\n",
       "      <td>{'paragraphs': [{'qas': [{'question': \"Pourquo...</td>\n",
       "      <td>1</td>\n",
       "    </tr>\n",
       "    <tr>\n",
       "      <th>4</th>\n",
       "      <td>{'paragraphs': [{'qas': [{'question': \"Quels s...</td>\n",
       "      <td>1</td>\n",
       "    </tr>\n",
       "  </tbody>\n",
       "</table>\n",
       "</div>"
      ],
      "text/plain": [
       "                                                data  version\n",
       "0  {'paragraphs': [{'qas': [{'question': \"Quel as...        1\n",
       "1  {'paragraphs': [{'qas': [{'question': 'America...        1\n",
       "2  {'paragraphs': [{'qas': [{'question': \"A quell...        1\n",
       "3  {'paragraphs': [{'qas': [{'question': \"Pourquo...        1\n",
       "4  {'paragraphs': [{'qas': [{'question': \"Quels s...        1"
      ]
     },
     "execution_count": 6,
     "metadata": {},
     "output_type": "execute_result"
    }
   ],
   "source": [
    "train_df.head()"
   ]
  },
  {
   "cell_type": "code",
   "execution_count": 7,
   "metadata": {},
   "outputs": [
    {
     "data": {
      "text/plain": [
       "Index(['data', 'version'], dtype='object')"
      ]
     },
     "execution_count": 7,
     "metadata": {},
     "output_type": "execute_result"
    }
   ],
   "source": [
    "train_df.iloc[0].keys()"
   ]
  },
  {
   "cell_type": "code",
   "execution_count": 8,
   "metadata": {},
   "outputs": [
    {
     "data": {
      "text/plain": [
       "dict_keys(['paragraphs', 'title'])"
      ]
     },
     "execution_count": 8,
     "metadata": {},
     "output_type": "execute_result"
    }
   ],
   "source": [
    "train_df.iloc[0]['data'].keys()"
   ]
  },
  {
   "cell_type": "code",
   "execution_count": 9,
   "metadata": {},
   "outputs": [
    {
     "data": {
      "text/plain": [
       "{'paragraphs': [{'qas': [{'question': \"Quel astronome a émit l'idée en premier d'une planète entre les orbites de Mars et Jupiter ?\",\n",
       "     'id': '9f38825f-1bd3-4171-9d3b-b0c2c71e7de2',\n",
       "     'answers': [{'text': 'Johann Elert Bode', 'answer_start': 136}]},\n",
       "    {'question': 'Quel astronome découvrit Uranus ?',\n",
       "     'id': 'c2415641-9a62-4052-b57b-9a239da7599c',\n",
       "     'answers': [{'text': 'William Herschel', 'answer_start': 404}]},\n",
       "    {'question': 'Quelles furent les découvertes finales des vingt-quatre astronomes ?',\n",
       "     'id': '5c59e19a-066c-4dc0-aa16-2871dcb12d39',\n",
       "     'answers': [{'text': 'plusieurs autres astéroïdes',\n",
       "       'answer_start': 733}]},\n",
       "    {'question': 'Quelles furent les découvertes finales des vingt-quatre astronomes ?',\n",
       "     'id': '5c59e19a-066c-4dc0-aa16-2871dcb12d39',\n",
       "     'answers': [{'text': 'plusieurs autres astéroïdes',\n",
       "       'answer_start': 733}]}],\n",
       "   'context': \"L'idée selon laquelle une planète inconnue pourrait exister entre les orbites de Mars et Jupiter fut proposée pour la première fois par Johann Elert Bode en 1768. Ses suggestions étaient basées sur la loi de Titius-Bode, une théorie désormais obsolète proposée par Johann Daniel Titius en 1766,. Selon cette loi, le demi-grand axe de cette planète aurait été d'environ 2,8 ua. La découverte d'Uranus par William Herschel en 1781 accrut la confiance dans la loi de Titius-Bode et, en 1800, vingt-quatre astronomes expérimentés combinèrent leurs efforts et entreprirent une recherche méthodique de la planète proposée,. Le groupe était dirigé par Franz Xaver von Zach. Bien qu'ils n'aient pas découvert Cérès, ils trouvèrent néanmoins plusieurs autres astéroïdes.\"},\n",
       "  {'qas': [{'question': 'Combien de fois Piazzi est-il parvenu à observer Cérès ?',\n",
       "     'id': 'f92b28f1-c235-47eb-bfe9-c5aba913c125',\n",
       "     'answers': [{'text': '24', 'answer_start': 21}]},\n",
       "    {'question': 'Où se trouvait Barnaba Oriani en 1801 ?',\n",
       "     'id': '958d919c-fc2c-404e-a48f-4d24fb603c43',\n",
       "     'answers': [{'text': 'Milan', 'answer_start': 191}]},\n",
       "    {'question': 'Dans quel revue scientifique fut publiées ces observations complètes ?',\n",
       "     'id': '4b7fb71a-8e2c-4e79-b04f-0bef0c39d1ed',\n",
       "     'answers': [{'text': 'Monatliche Correspondenz', 'answer_start': 539}]},\n",
       "    {'question': \"Pourquoi Cérès n'était pas directement assimilable à une comète ?\",\n",
       "     'id': 'ad7659de-6331-4dc6-bbf0-94db83487a71',\n",
       "     'answers': [{'text': 'son mouvement est lent et uniforme',\n",
       "       'answer_start': 259}]}],\n",
       "   'context': \"Piazzi observa Cérès 24 fois, la dernière fois le 11 février. Le 24 janvier 1801, Piazzi annonça sa découverte par des lettres à plusieurs collègues italiens, parmi lesquels Barnaba Oriani à Milan. Il la décrivit comme une comète, mais remarqua que « puisque son mouvement est lent et uniforme, il m'a semblé à plusieurs reprises qu'il pourrait s'agir de quelque chose de mieux qu'une comète. » En avril, Piazzi envoya ses observations complètes à Oriani, Bode et Lalande à Paris. Elles furent publiées dans l'édition de septembre 1801 du Monatliche Correspondenz.\"},\n",
       "  {'qas': [{'question': 'Pour quelle raison on ne put plus observer Cérès ?',\n",
       "     'id': 'd0fecd9f-cadd-4cf2-ae2f-324eda4452dc',\n",
       "     'answers': [{'text': \"Cérès s'approcha trop près du Soleil\",\n",
       "       'answer_start': 25}]},\n",
       "    {'question': 'Qui est parvenu à déterminer approximativement la position de Cérès ?',\n",
       "     'id': '96afd590-df7d-40f8-a72f-bd16eefa7f47',\n",
       "     'answers': [{'text': 'Carl Friedrich Gauss', 'answer_start': 316}]},\n",
       "    {'question': 'Quelle méthode fut utilisée pour retrouver la position de Cérès ?',\n",
       "     'id': 'a73e0db1-dab4-4f51-910e-87d5b97855e9',\n",
       "     'answers': [{'text': \"une méthode de déduction de l'orbite basée sur trois observations\",\n",
       "       'answer_start': 347}]},\n",
       "    {'question': 'Quel poste occupait Franz Xaver von Zach ?',\n",
       "     'id': 'ecae0663-2ef8-4613-8305-e02f70fe496e',\n",
       "     'answers': [{'text': 'éditeur du Monatliche Correspondenz',\n",
       "       'answer_start': 525}]}],\n",
       "   'context': \"Peu après sa découverte, Cérès s'approcha trop près du Soleil et ne put être observée à nouveau ; les autres astronomes ne purent confirmer les observations de Piazzi avant la fin de l'année. Cependant, après une telle durée, il était difficile de prédire la position exacte de Cérès. Afin de retrouver l'astéroïde, Carl Friedrich Gauss développa une méthode de déduction de l'orbite basée sur trois observations. En l'espace de quelques semaines, il prédit celle de Cérès et communiqua ses résultats à Franz Xaver von Zach, éditeur du Monatliche Correspondenz. Le 31 décembre 1801, von Zach et Heinrich Olbers confirmèrent que Cérès avait été retrouvée près de la position prévue, validant ainsi la méthode.\"},\n",
       "  {'qas': [{'question': 'Pour quelles raisons seule la première partie du nom fut conservée ?',\n",
       "     'id': '0507469c-b398-44e4-a0f9-9f7508999587',\n",
       "     'answers': [{'text': 'des considérations diplomatiques',\n",
       "       'answer_start': 19}]},\n",
       "    {'question': 'Quel est le nom grec de Cérès ?',\n",
       "     'id': 'e1660553-7cbf-48b6-b877-69814f9f7a24',\n",
       "     'answers': [{'text': 'Δήμητρα', 'answer_start': 199}]},\n",
       "    {'question': 'Quel nom eut Cérès pendant un court moment en Allemagne ?',\n",
       "     'id': '67633d5c-f6f0-4ddd-9f12-05a10e07bcb2',\n",
       "     'answers': [{'text': 'Héra', 'answer_start': 127}]}],\n",
       "   'context': \"Par la suite, pour des considérations diplomatiques, seule la première partie du nom fut conservée. Cérès fut également appelé Héra en Allemagne pendant une brève période. En Grèce, elle est appelée Δήμητρα (Dêmētra, Déméter), d'après le nom en grec moderne de la déesse grecque équivalente à Cérès. Lorsque le nom « Déméter » fut attribué à son tour à l'astéroïde (1108) Déméter, cela créa un problème dans la langue grecque, qui fut résolu en utilisant le nom en grec ancien pour le nouvel objet : Δημήτηρ (Dēmêtēr). \"},\n",
       "  {'qas': [{'question': \"Qu'est-ce qui résulte de la désignation des planètes mineures ?\",\n",
       "     'id': '608c3c12-9860-4db9-a4ec-f1b9a5cffe9e',\n",
       "     'answers': [{'text': \"donner aux corps dont l'orbite est connue avec certitude un numéro définitif\",\n",
       "       'answer_start': 49}]},\n",
       "    {'question': 'Dans quelle région du système solaire se trouve Cérès ?',\n",
       "     'id': 'ff323f65-4cb6-4673-ad77-b179d12dc975',\n",
       "     'answers': [{'text': \"la ceinture d'astéroïdes\", 'answer_start': 176}]},\n",
       "    {'question': 'Quelles sont les désignation scientifiques de Cérès ?',\n",
       "     'id': '028cfab9-2e41-4c39-8215-cd72ceae01a2',\n",
       "     'answers': [{'text': '(1) Cérès, ou éventuellement 1 Cérès',\n",
       "       'answer_start': 303}]},\n",
       "    {'question': 'Quel symbole astronomique évoque Cérès ?',\n",
       "     'id': '0d393395-314b-4642-b310-a3eaff3d7fab',\n",
       "     'answers': [{'text': 'un arc de cercle avec une croix pointant vers le bas et représentant une faucille',\n",
       "       'answer_start': 432}]},\n",
       "    {'question': 'Pourquoi le symbole de Cérès possède une faucille ?',\n",
       "     'id': '2f20f051-096f-4374-a19d-0bc1ee16b265',\n",
       "     'answers': [{'text': \"elle tire son nom de celui d'une déesse de l'agriculture\",\n",
       "       'answer_start': 536}]}],\n",
       "   'context': \"La désignation des planètes mineures implique de donner aux corps dont l'orbite est connue avec certitude un numéro définitif. À Cérès, en tant que premier membre découvert de la ceinture d'astéroïdes, fut rétrospectivement attribué le numéro 1. Sa désignation scientifique officielle complète est donc (1) Cérès, ou éventuellement 1 Cérès. Les premiers astéroïdes découverts possèdent un symbole astronomique et celui de Cérès est un arc de cercle avec une croix pointant vers le bas et représentant une faucille, rappelant le fait qu'elle tire son nom de celui d'une déesse de l'agriculture : ,. En codage informatique des caractères, ce symbole est présent dans la table Symboles divers du standard Unicode au code 26B3 depuis mars 2008 (Unicode 5.1.0).\"},\n",
       "  {'qas': [{'question': 'Que veut dire astéroïde ?',\n",
       "     'id': '38db14c9-74cc-461a-877b-6b4f470f2e7e',\n",
       "     'answers': [{'text': 'ressemblant à une étoile', 'answer_start': 324}]},\n",
       "    {'question': 'Quel astéroïde fut le premier découvert ?',\n",
       "     'id': 'e6e919af-fb47-4138-96fe-15e3b35794c3',\n",
       "     'answers': [{'text': 'Cérès', 'answer_start': 114}]},\n",
       "    {'question': \"Qui est à l'origine du terme astéroïde ?\",\n",
       "     'id': '9d70bc89-40ad-4871-9647-3eed48b5e934',\n",
       "     'answers': [{'text': 'William Herschel', 'answer_start': 250}]},\n",
       "    {'question': 'Que dit Herschel sur ces nouveaux corps similaires ?',\n",
       "     'id': '86aa775e-15ae-44d8-85ee-691f22f311e8',\n",
       "     'answers': [{'text': \"ils ressemblent tellement à de petites étoiles qu'il est difficile de faire la différence, même avec de très bons télescopes\",\n",
       "       'answer_start': 388}]}],\n",
       "   'context': \"Au fur et à mesure que de nombreux autres objets furent découverts dans la région, les astronomes réalisèrent que Cérès n'était que le premier d'une classe de corps similaires. Ils se révélèrent très petits, ne présentant aucun disque observable, et William Herschel inventa en 1802 le terme d'« astéroïde » (c'est-à-dire « ressemblant à une étoile ») afin de les désigner, écrivant qu'« ils ressemblent tellement à de petites étoiles qu'il est difficile de faire la différence, même avec de très bons télescopes ». Cérès étant le premier astéroïde découvert, il fut désigné par (1) Cérès dans le système moderne de numérotation des astéroïdes dans les années 1850.\"},\n",
       "  {'qas': [{'question': 'Quel évènement fit remonter à la surface le débat autour du statut de Cérès ?',\n",
       "     'id': 'ff4b5855-d864-4075-9036-b3ae54193476',\n",
       "     'answers': [{'text': 'le débat concernant le statut de Pluton et la définition du terme planète',\n",
       "       'answer_start': 9}]},\n",
       "    {'question': \"Quelle définition fut proposée d'une planète ?\",\n",
       "     'id': '2789fef5-29f3-4f2f-86ef-707145514ec0',\n",
       "     'answers': [{'text': \"un corps en équilibre hydrostatique en orbite autour d'une étoile et n'étant ni une étoile, ni un satellite d'une planète\",\n",
       "       'answer_start': 255}]},\n",
       "    {'question': \"Quand se mit-on d'accord sur une définition de planète ?\",\n",
       "     'id': 'b7211698-bcb0-40d7-b823-0e27ffc182bc',\n",
       "     'answers': [{'text': '24 août 2006', 'answer_start': 514}]},\n",
       "    {'question': 'Comment est caractérisé désormais Cérès ?',\n",
       "     'id': 'f6048e06-73ac-4b0e-a482-d4dcf345609a',\n",
       "     'answers': [{'text': 'planète naine', 'answer_start': 625}]}],\n",
       "   'context': \"En 2006, le débat concernant le statut de Pluton et la définition du terme planète conduisit à reconsidérer le statut de Cérès,. L'une des propositions de définitions présentées devant l'Union astronomique internationale pour la définition d'une planète (un corps en équilibre hydrostatique en orbite autour d'une étoile et n'étant ni une étoile, ni un satellite d'une planète) aurait fait de Cérès la cinquième planète à partir du Soleil. Cette définition ne fut pas adoptée. La définition finale fut annoncée le 24 août 2006, ajoutant qu'une planète devait avoir « nettoyé son voisinage ». Cérès fut alors catégorisé comme planète naine.\"},\n",
       "  {'qas': [{'question': 'Selon les observations de la sonde Dawn à quand remonte la formation de Cérès ?',\n",
       "     'id': '73e1bcbe-78fb-4069-a567-d024bb590a2a',\n",
       "     'answers': [{'text': \"il y a 4,57 milliards d'années\",\n",
       "       'answer_start': 86}]},\n",
       "    {'question': \"Pourquoi Pallas et Vesta ne peuvent pas être d'anciennes protoplanètes ?\",\n",
       "     'id': '30ba6088-fb64-40fb-a3e3-8664e7b7c8d0',\n",
       "     'answers': [{'text': 'ne possèdent pas une forme sphérique',\n",
       "       'answer_start': 353}]},\n",
       "    {'question': \"Que serait à l'origine de la forme non sphérique de Vesta ?\",\n",
       "     'id': '46104036-ea96-49cf-ae4b-084b21af87e8',\n",
       "     'answers': [{'text': 'un impact majeur après son accrétion',\n",
       "       'answer_start': 466}]},\n",
       "    {'question': 'Quel autre astéroide aurait pu subir un même impact ?',\n",
       "     'id': 'c6282986-5f19-495c-b6a0-18128ad3e2cc',\n",
       "     'answers': [{'text': 'Ida', 'answer_start': 518}]}],\n",
       "   'context': \"Les observations de la sonde Dawn suggèrent que Cérès s'est formée au-delà de Neptune il y a 4,57 milliards d'années avant d'être éjectée de son orbite primordiale par la Grande Migration planétaire pour se stabiliser dans la ceinture d'astéroïdes. Dans la ceinture d'astéroïdes, Pallas et Vesta pourraient également être d'anciennes protoplanètes mais ne possèdent pas une forme sphérique — dans le cas de Vesta, cette difformité pourrait être principalement due à un impact majeur après son accrétion. Il se peut qu'Ida, un autre corps de la ceinture d'astéroïdes, ait une origine identique.\"},\n",
       "  {'qas': [{'question': \"Pourquoi Cérès s'est différencié entre un noyau rocheux et un manteau de glace ?\",\n",
       "     'id': '10ccbaf3-27a4-49a1-8107-678a5ecf2a6c',\n",
       "     'answers': [{'text': \"l'échauffement provoqué par l'accrétion et peut-être par la désintégration de radioisotopes disparus depuis lors\",\n",
       "       'answer_start': 108}]},\n",
       "    {'question': \"Qu'est-ce qui provoqua un volcanisme d'eau ?\",\n",
       "     'id': 'b038372e-4b0d-4b92-8700-bba74297eca9',\n",
       "     'answers': [{'text': \"l'échauffement provoqué par l'accrétion et peut-être par la désintégration de radioisotopes disparus depuis lors\",\n",
       "       'answer_start': 108}]},\n",
       "    {'question': \"Que causa l'épuisement rapide des sources de chaleur ?\",\n",
       "     'id': 'f90d47da-ee01-41ca-a218-6354dcafff7e',\n",
       "     'answers': [{'text': 'Cérès se refroidit', 'answer_start': 374}]},\n",
       "    {'question': 'Comment peut-on désormais qualifier Cérès ?',\n",
       "     'id': '199ffb64-3ec9-42c8-a4e2-03b719e272c9',\n",
       "     'answers': [{'text': \"un corps géologiquement mort dont la surface n'est plus sculptée que par des impacts\",\n",
       "       'answer_start': 608}]}],\n",
       "   'context': \"Peu après sa formation, Cérès s'est différencié entre un noyau rocheux et un manteau de glace, en raison de l'échauffement provoqué par l'accrétion et peut-être par la désintégration de radioisotopes disparus depuis lors, comme 26Al,. Ce processus provoqua un volcanisme d'eau et une tectonique, qui firent disparaître de nombreuses caractéristiques géologiques. Cependant, Cérès se refroidit par la suite en raison de l'épuisement rapide des sources de chaleur. La glace de la surface s'est graduellement sublimée, laissant derrière elle divers minéraux hydratés : argile et carbonates. Cérès est désormais un corps géologiquement mort dont la surface n'est plus sculptée que par des impacts.\"},\n",
       "  {'qas': [{'question': \"Quelle hypothèse a été soulevé par l'existence de quantités importantes de glace d'eau dans Cérès ?\",\n",
       "     'id': '11afa960-ffcf-4b58-b814-16ca38501b24',\n",
       "     'answers': [{'text': \"couche d'eau liquide\", 'answer_start': 97}]},\n",
       "    {'question': \"Où devait se trouver la couche d'eau liquide sur Cérès ?\",\n",
       "     'id': '896bc528-a91b-435e-822f-55b1675454da',\n",
       "     'answers': [{'text': 'entre le noyau et le manteau de glace',\n",
       "       'answer_start': 242}]},\n",
       "    {'question': \"Où devait se trouver la couche d'eau liquide sur Cérès ?\",\n",
       "     'id': '896bc528-a91b-435e-822f-55b1675454da',\n",
       "     'answers': [{'text': 'entre le noyau et le manteau de glace',\n",
       "       'answer_start': 242}]},\n",
       "    {'question': \"Où devait se trouver la couche d'eau liquide sur Cérès ?\",\n",
       "     'id': '896bc528-a91b-435e-822f-55b1675454da',\n",
       "     'answers': [{'text': 'entre le noyau et le manteau de glace',\n",
       "       'answer_start': 242}]}],\n",
       "   'context': \"L'existence de quantités significatives de glace d'eau dans Cérès a soulevé la possibilité d'une couche d'eau liquide (éventuellement déjà solidifiée). Cette couche hypothétique, parfois appelée un océan, est - ou était - probablement située entre le noyau et le manteau de glace comme sur Europe. L'existence d'un océan est plus probable si de l'ammoniac ou d'autres substances dissoutes (comme des sels) agissant comme antigel, sont présentes dans l'eau. L'existence possible d'eau liquide dans Cérès en fait une cible potentielle des recherches de vie extraterrestre.\"},\n",
       "  {'qas': [{'question': 'Entre quelles planètes se trouve Cérès ?',\n",
       "     'id': 'aec01e08-6a9a-416d-845c-21ed604a06df',\n",
       "     'answers': [{'text': 'entre Mars et Jupiter', 'answer_start': 47}]},\n",
       "    {'question': 'En combien de temps Cérès accomplit-il une révolution autour de son astre ?',\n",
       "     'id': '3f479774-a638-4eb5-9628-a71c83c13154',\n",
       "     'answers': [{'text': '4,6 ans', 'answer_start': 136}]},\n",
       "    {'question': \"Quelle est l'inclinaison de l'orbite par rapport au plan de l'écliptique ?\",\n",
       "     'id': '3f934ce0-c8cf-49b6-898b-2254c60ca97e',\n",
       "     'answers': [{'text': '10,6°', 'answer_start': 181}]},\n",
       "    {'question': \"Quelle est l'inclinaison de l'orbite par rapport au plan de l'écliptique ?\",\n",
       "     'id': '3f934ce0-c8cf-49b6-898b-2254c60ca97e',\n",
       "     'answers': [{'text': '10,6°', 'answer_start': 181}]}],\n",
       "   'context': \"Cérès est située sur une orbite héliocentrique entre Mars et Jupiter, au sein de la ceinture d'astéroïdes principale. Sa période est de 4,6 ans. Son orbite est modérément inclinée (10,6° par rapport au plan de l'écliptique, à comparer à 7° pour Mercure et 17° pour Pluton) et faiblement excentrique (0,08, celle de Mars vaut 0,09). Les observations effectuées par Hubble en 2003-2004 permirent de déterminer que le pôle Nord de Cérès pointe (à 5° près) dans la direction d'ascension droite 19h 41m et de déclinaison +59°, dans la constellation du Dragon ; l'inclinaison de l'axe de Cérès est très faible (environ 4 ± 5 °),.\"},\n",
       "  {'qas': [{'question': 'Quelle pourrait être une potentielle origine commune ?',\n",
       "     'id': '76fffd02-be60-4602-b0e5-172a7d882301',\n",
       "     'answers': [{'text': \"à la suite d'une collision\", 'answer_start': 204}]},\n",
       "    {'question': \"Qu'est-ce qui distingue Cérès des autres astéroïdes ?\",\n",
       "     'id': '05c514bb-0d00-4c51-9523-b3ab17c13227',\n",
       "     'answers': [{'text': 'des propriétés spectrales distinctes',\n",
       "       'answer_start': 257}]},\n",
       "    {'question': \"Qu'est-ce qui distingue Cérès des autres astéroïdes ?\",\n",
       "     'id': '05c514bb-0d00-4c51-9523-b3ab17c13227',\n",
       "     'answers': [{'text': 'des propriétés spectrales distinctes',\n",
       "       'answer_start': 257}]},\n",
       "    {'question': \"Qu'est-ce qui distingue Cérès des autres astéroïdes ?\",\n",
       "     'id': '05c514bb-0d00-4c51-9523-b3ab17c13227',\n",
       "     'answers': [{'text': 'des propriétés spectrales distinctes',\n",
       "       'answer_start': 257}]}],\n",
       "   'context': \"Par le passé, Cérès était considéré comme membre d'une famille d'astéroïdes, un regroupement d'astéroïdes qui partagent des éléments orbitaux similaires et peuvent avoir une origine commune (par exemple, à la suite d'une collision). Cérès possède cependant des propriétés spectrales distinctes des autres membres de cette famille et ce regroupement est désormais appelé famille de Gefion, d'après son membre possédant le numéro le plus petit, (1272) Gefion. Cérès est simplement un intrus dans cette famille, partageant des éléments orbitaux mais pas une origine commune.\"},\n",
       "  {'qas': [{'question': \"A quel groupe d'astéroïde le composition de la surface de Cérès est très proche ?\",\n",
       "     'id': '4e1d004b-d1af-4bae-9a6b-1ec4148c68a1',\n",
       "     'answers': [{'text': 'astéroïdes de type C', 'answer_start': 95}]},\n",
       "    {'question': 'Que possède Cérès dans sa composition que les autres astéroïdes de type C ne possèdent pas ?',\n",
       "     'id': 'bcc7d266-7385-4406-b285-1fe3ffd5f72f',\n",
       "     'answers': [{'text': \"carbonates et de l'argile\", 'answer_start': 527}]},\n",
       "    {'question': 'A quel groupe appartient Cérès ?',\n",
       "     'id': '781ef943-2516-41c1-802f-f923c09b2f5c',\n",
       "     'answers': [{'text': 'astéroïde de type G', 'answer_start': 661}]},\n",
       "    {'question': 'A quel groupe appartient Cérès ?',\n",
       "     'id': '781ef943-2516-41c1-802f-f923c09b2f5c',\n",
       "     'answers': [{'text': 'astéroïde de type G', 'answer_start': 661}]}],\n",
       "   'context': \"La composition de la surface de Cérès est largement similaire, mais pas identique, à celle des astéroïdes de type C. Le spectre infrarouge de Cérès fait apparaître des matériaux hydratés qui indiquent la présence de quantités significatives d'eau à l'intérieur de l'objet. Parmi les autres possibles constituants de la surface, il y aurait de l'argile riche en fer (cronstedtite) et des composés carbonatés (dolomite et sidérite), minéraux courants dans les météorites chondrites carbonées. Les caractéristiques spectrales des carbonates et de l'argile sont généralement absentes du spectre des autres astéroïdes de type C. Cérès est parfois classifié comme un astéroïde de type G.\"},\n",
       "  {'qas': [{'question': \"Vers quelle longueur d'onde retrouve-t-on un pic d'absorption ?\",\n",
       "     'id': '3c378fe2-40d3-4059-a100-1149d9fc362f',\n",
       "     'answers': [{'text': '3,4 µm', 'answer_start': 138}]},\n",
       "    {'question': \"Quel appareil a relevé un pic d'absorption ?\",\n",
       "     'id': '2b95cd15-c455-4068-98f3-019abc4481d2',\n",
       "     'answers': [{'text': 'spectromètre', 'answer_start': 62}]},\n",
       "    {'question': \"Qu'illustre le pic d'absorption ?\",\n",
       "     'id': 'fd2439ba-da50-4be2-937b-029bb4b467bd',\n",
       "     'answers': [{'text': 'matière organique aliphatique',\n",
       "       'answer_start': 184}]},\n",
       "    {'question': 'Près de quel cratère retrouve-t-on de la matière organique aliphatique ?',\n",
       "     'id': 'cdc13e56-044b-43a1-9da0-9aab14002dde',\n",
       "     'answers': [{'text': 'cratère Ernutet', 'answer_start': 297}]}],\n",
       "   'context': \"La cartographie opérée dans le visible et l'infrarouge par le spectromètre à bord de Dawn a révélé la présence d'un pic d'absorption vers 3,4 µm. Ce pic, qui est caractéristique de la matière organique aliphatique, est principalement observable dans une région d'environ 1 000 km2, à proximité du cratère Ernutet. La présence sur Cérès de minéraux hydratés contenant de l'ammoniac, de la glace d'eau, des carbonates, des sels et de la matière organique indique un environnement chimique très complexe, éventuellement favorable à la chimie prébiotique,.\"},\n",
       "  {'qas': [{'question': 'A quand remonte le pic de température diurne ?',\n",
       "     'id': 'ed739036-6ace-4b74-90ba-febbe64c864e',\n",
       "     'answers': [{'text': '5 mai 1991', 'answer_start': 116}]},\n",
       "    {'question': 'En Kelvin à combien montait la température diurne à son pic ?',\n",
       "     'id': 'b6e1c31c-6c88-449f-8330-79c0397ebc8c',\n",
       "     'answers': [{'text': '235 K', 'answer_start': 90}]},\n",
       "    {'question': \"Comment a-t-on détecté de la vapeur d'eau près du pole nord ?\",\n",
       "     'id': 'fa6f7fd4-2e05-4c30-881c-434cd6a4282e',\n",
       "     'answers': [{'text': 'le télescope International Ultraviolet Explorer (IUE)',\n",
       "       'answer_start': 444}]}],\n",
       "   'context': \"La surface de Cérès est relativement chaude. La température diurne maximale fut estimée à 235 K (environ −38 °C) le 5 mai 1991. En tenant compte de la distance de Cérès au Soleil lors de cette mesure, il fut possible d'estimer que la température maximale est d'environ 239 K (environ −34 °C) au périhélie. Quelques indices laissent à penser que Cérès possède une atmosphère ténue et du givre. Des observations dans l'ultraviolet effectuées par le télescope International Ultraviolet Explorer (IUE) ont détecté de la vapeur d'eau près du pôle nord.\"},\n",
       "  {'qas': [{'question': 'Quel télescope découvrit Piazzi en premier ?',\n",
       "     'id': '6363a6b5-89ad-49a2-9ae8-b8800640a391',\n",
       "     'answers': [{'text': 'Hubble', 'answer_start': 164}]},\n",
       "    {'question': 'A quand remonte la découverte du point sombre ?',\n",
       "     'id': 'a9b5137e-3e99-4de2-993e-bc46139ca4b3',\n",
       "     'answers': [{'text': '1995', 'answer_start': 174}]},\n",
       "    {'question': 'Qui se nommait également Piazzi ?',\n",
       "     'id': 'cf46e243-31a2-4044-bb28-de210b926d37',\n",
       "     'answers': [{'text': 'découvreur de Cérès', 'answer_start': 266}]},\n",
       "    {'question': 'Quelle méthode utilisa le télescope Keck ?',\n",
       "     'id': '86b0566d-ad3c-41ee-9e15-f3a2a4761ce5',\n",
       "     'answers': [{'text': 'optique adaptative sur une rotation complète',\n",
       "       'answer_start': 418}]},\n",
       "    {'question': 'A quand remonte les dernières images prises par Hubble en lumière visible ?',\n",
       "     'id': 'c0af1814-bf46-4aaa-8337-47b294037b36',\n",
       "     'answers': [{'text': '2003 et 2004', 'answer_start': 802}]}],\n",
       "   'context': \"Il existe divers points singuliers de nature incertaine à la surface de Cérès. Les photographies ultraviolettes en haute résolution prises par le télescope spatial Hubble en 1995 montrèrent un point sombre sur sa surface, qui fut surnommé « Piazzi » en l'honneur du découvreur de Cérès et dont on pensait qu'il s'agissait d'un cratère. Des images ultérieures, prises en plus haute résolution par le télescope Keck par optique adaptative sur une rotation complète, ne montrèrent aucun signe de « Piazzi ». Cependant, deux zones sombres semblaient se déplacer avec la rotation de la planète naine, l'une d'entre elles possédant une région centrale brillante. Les scientifiques ont émis l'hypothèse qu'il s'agit également de cratères. Les images les plus récentes, prises par Hubble en lumière visible en 2003 et 2004, mettent en évidence onze points singuliers de nature inconnue à la surface de Cérès,. L'une de ces zones correspond à « Piazzi ». Les zones de faible albédo observées par Keck n'ont pas pu être identifiées sur ces images.\"},\n",
       "  {'qas': [{'question': 'Quelle découverte fit la sonde Dawn en 2015 ?',\n",
       "     'id': '34da2f97-2022-4321-91dd-565958fa420d',\n",
       "     'answers': [{'text': 'le mont Ahuna', 'answer_start': 58}]},\n",
       "    {'question': \"Quel est l'altitude du mont Ahuna ?\",\n",
       "     'id': '6ba30a04-6b9c-4644-8bdb-48b1b955c382',\n",
       "     'answers': [{'text': '6 000 mètres', 'answer_start': 116}]},\n",
       "    {'question': 'Quelles particularités possède le mont Ahuna ?',\n",
       "     'id': '7e27d67a-ea07-4e5c-a875-0229ca8964d2',\n",
       "     'answers': [{'text': 'de mystérieuses taches claires au fond de différents cratères',\n",
       "       'answer_start': 151}]},\n",
       "    {'question': 'Quel est le diamètre de Yalode ?',\n",
       "     'id': '1aa8f7bf-b9e1-48b8-a696-ee00e904664b',\n",
       "     'answers': [{'text': '270 km', 'answer_start': 480}]}],\n",
       "   'context': \"Autres curiosités découvertes par la sonde Dawn en 2015 : le mont Ahuna, une montagne de forme conique et d'environ 6 000 mètres d'altitude et surtout de mystérieuses taches claires au fond de différents cratères, dont les plus spectaculaires sont celles du cratère Occator, large de 90 km, et que l'on retrouve également sur le cratère Kupalo (26 km de diamètre), photographié le 21 décembre 2015 à 385 km d'altitude. Parmi les autres cratères particulièrement étudiés : Yalode (270 km de diamètre), Urvara (en) (160 km de diamètre), Dantu (120 km de diamètre, typique pour son sol fracturé), Ikapati (50 km de diamètre) et Haulani (30 km de diamètre), dont les survols sont reconstitués dans un film réalisé par la NASA en images de synthèse.\"},\n",
       "  {'qas': [{'question': 'Qui et quand peut-on percevoir la planète naine à oeil nu ?',\n",
       "     'id': '30496087-e1b3-420a-ba33-caac58c341a4',\n",
       "     'answers': [{'text': \"une personne dotée d'une excellente vue et dans des conditions d'observation exceptionnelles\",\n",
       "       'answer_start': 250}]},\n",
       "    {'question': 'Quelle astéroïde peut le plus fréquemment atteindre une magnitude de +6,7 ?',\n",
       "     'id': '87d49188-a724-4119-a5b5-5f4fb5224686',\n",
       "     'answers': [{'text': 'Vesta', 'answer_start': 438}]},\n",
       "    {'question': 'A quand remonte le dernier pic de magnitude de Vesta ?',\n",
       "     'id': '6a79d787-4fa6-485c-9a3a-e58d1c343b78',\n",
       "     'answers': [{'text': 'mai et juin 2007', 'answer_start': 647}]},\n",
       "    {'question': 'Quand est-ce que la planète naine peut être vu aux jumelles ?',\n",
       "     'id': '7f635e4a-a02c-46fd-b995-173f439ddbdd',\n",
       "     'answers': [{'text': \"dès qu'elle est au-dessus de l'horizon par une nuit noire\",\n",
       "       'answer_start': 871}]}],\n",
       "   'context': \"Lorsque Cérès est en opposition à proximité de son périhélie, il peut atteindre une magnitude apparente de +6,7. On considère généralement que cette valeur est trop faible pour que l'objet soit visible à l'œil nu, mais il est néanmoins possible pour une personne dotée d'une excellente vue et dans des conditions d'observation exceptionnelles de percevoir la planète naine. Les seuls astéroïdes pouvant atteindre une telle magnitude sont Vesta et, pendant de rares oppositions à leur périhélie, Pallas et Iris. Au maximum de sa luminosité, Cérès n'est pas l'astéroïde le plus brillant ; Vesta peut atteindre la magnitude +5,4, la dernière fois en mai et juin 2007. Aux conjonctions, Cérès atteint la magnitude de +9,3, ce qui correspond aux objets les moins lumineux qui puissent être visibles à l'aide de jumelles 10×50. La planète naine peut donc être vue aux jumelles dès qu'elle est au-dessus de l'horizon par une nuit noire. Pallas et Iris sont invisibles aux jumelles par de petites élongations.\"},\n",
       "  {'qas': [{'question': 'Quand est-ce que les conclusions sur les observations de 2016 sont publiées ?',\n",
       "     'id': 'e4d8495e-27ea-4d7f-b43e-db25e79c0110',\n",
       "     'answers': [{'text': 'mars 2018', 'answer_start': 3}]},\n",
       "    {'question': 'Quel observatoire a réalisé ces observations ?',\n",
       "     'id': '509caac9-414d-41d2-a2ba-5e9e7513edd8',\n",
       "     'answers': [{'text': 'Dawn', 'answer_start': 90}]},\n",
       "    {'question': \"En dehors de la structure de Cérès qu'illustre ces observations ?\",\n",
       "     'id': 'ac6be897-99b6-4fa2-992a-a31351182d11',\n",
       "     'answers': [{'text': \"il s'agit d'une planète naine encore très active avec une augmentation de la quantité d'eau glacée sur les murs de cratère\",\n",
       "       'answer_start': 210}]},\n",
       "    {'question': \"Qu'est-ce qui est ainsi montré au grand public ?\",\n",
       "     'id': 'a73e184e-e20a-4264-a5c0-e13c80a3bc3b',\n",
       "     'answers': [{'text': 'des images extraordinaires de Cérès',\n",
       "       'answer_start': 497}]}],\n",
       "   'context': \"En mars 2018, de nouvelles conclusions sont publiées sur la base de données observées par Dawn d'avril à octobre 2016. Elles mettent en évidence une structure plus complexe que prévu, et surtout elle montre qu'il s'agit d'une planète naine encore très active avec une augmentation de la quantité d'eau glacée sur les murs de cratère,. Il s'agit là de la première fois où une évolution de la surface de Cérès est mise en évidence. Ces observations permettent également au grand public de découvrir des images extraordinaires de Cérès.\"}],\n",
       " 'title': '(1)-cérès'}"
      ]
     },
     "execution_count": 9,
     "metadata": {},
     "output_type": "execute_result"
    }
   ],
   "source": [
    "train_df.iloc[0]['data']"
   ]
  },
  {
   "cell_type": "code",
   "execution_count": 10,
   "metadata": {},
   "outputs": [
    {
     "data": {
      "text/plain": [
       "[{'qas': [{'question': \"Quel astronome a émit l'idée en premier d'une planète entre les orbites de Mars et Jupiter ?\",\n",
       "    'id': '9f38825f-1bd3-4171-9d3b-b0c2c71e7de2',\n",
       "    'answers': [{'text': 'Johann Elert Bode', 'answer_start': 136}]},\n",
       "   {'question': 'Quel astronome découvrit Uranus ?',\n",
       "    'id': 'c2415641-9a62-4052-b57b-9a239da7599c',\n",
       "    'answers': [{'text': 'William Herschel', 'answer_start': 404}]},\n",
       "   {'question': 'Quelles furent les découvertes finales des vingt-quatre astronomes ?',\n",
       "    'id': '5c59e19a-066c-4dc0-aa16-2871dcb12d39',\n",
       "    'answers': [{'text': 'plusieurs autres astéroïdes', 'answer_start': 733}]},\n",
       "   {'question': 'Quelles furent les découvertes finales des vingt-quatre astronomes ?',\n",
       "    'id': '5c59e19a-066c-4dc0-aa16-2871dcb12d39',\n",
       "    'answers': [{'text': 'plusieurs autres astéroïdes',\n",
       "      'answer_start': 733}]}],\n",
       "  'context': \"L'idée selon laquelle une planète inconnue pourrait exister entre les orbites de Mars et Jupiter fut proposée pour la première fois par Johann Elert Bode en 1768. Ses suggestions étaient basées sur la loi de Titius-Bode, une théorie désormais obsolète proposée par Johann Daniel Titius en 1766,. Selon cette loi, le demi-grand axe de cette planète aurait été d'environ 2,8 ua. La découverte d'Uranus par William Herschel en 1781 accrut la confiance dans la loi de Titius-Bode et, en 1800, vingt-quatre astronomes expérimentés combinèrent leurs efforts et entreprirent une recherche méthodique de la planète proposée,. Le groupe était dirigé par Franz Xaver von Zach. Bien qu'ils n'aient pas découvert Cérès, ils trouvèrent néanmoins plusieurs autres astéroïdes.\"},\n",
       " {'qas': [{'question': 'Combien de fois Piazzi est-il parvenu à observer Cérès ?',\n",
       "    'id': 'f92b28f1-c235-47eb-bfe9-c5aba913c125',\n",
       "    'answers': [{'text': '24', 'answer_start': 21}]},\n",
       "   {'question': 'Où se trouvait Barnaba Oriani en 1801 ?',\n",
       "    'id': '958d919c-fc2c-404e-a48f-4d24fb603c43',\n",
       "    'answers': [{'text': 'Milan', 'answer_start': 191}]},\n",
       "   {'question': 'Dans quel revue scientifique fut publiées ces observations complètes ?',\n",
       "    'id': '4b7fb71a-8e2c-4e79-b04f-0bef0c39d1ed',\n",
       "    'answers': [{'text': 'Monatliche Correspondenz', 'answer_start': 539}]},\n",
       "   {'question': \"Pourquoi Cérès n'était pas directement assimilable à une comète ?\",\n",
       "    'id': 'ad7659de-6331-4dc6-bbf0-94db83487a71',\n",
       "    'answers': [{'text': 'son mouvement est lent et uniforme',\n",
       "      'answer_start': 259}]}],\n",
       "  'context': \"Piazzi observa Cérès 24 fois, la dernière fois le 11 février. Le 24 janvier 1801, Piazzi annonça sa découverte par des lettres à plusieurs collègues italiens, parmi lesquels Barnaba Oriani à Milan. Il la décrivit comme une comète, mais remarqua que « puisque son mouvement est lent et uniforme, il m'a semblé à plusieurs reprises qu'il pourrait s'agir de quelque chose de mieux qu'une comète. » En avril, Piazzi envoya ses observations complètes à Oriani, Bode et Lalande à Paris. Elles furent publiées dans l'édition de septembre 1801 du Monatliche Correspondenz.\"},\n",
       " {'qas': [{'question': 'Pour quelle raison on ne put plus observer Cérès ?',\n",
       "    'id': 'd0fecd9f-cadd-4cf2-ae2f-324eda4452dc',\n",
       "    'answers': [{'text': \"Cérès s'approcha trop près du Soleil\",\n",
       "      'answer_start': 25}]},\n",
       "   {'question': 'Qui est parvenu à déterminer approximativement la position de Cérès ?',\n",
       "    'id': '96afd590-df7d-40f8-a72f-bd16eefa7f47',\n",
       "    'answers': [{'text': 'Carl Friedrich Gauss', 'answer_start': 316}]},\n",
       "   {'question': 'Quelle méthode fut utilisée pour retrouver la position de Cérès ?',\n",
       "    'id': 'a73e0db1-dab4-4f51-910e-87d5b97855e9',\n",
       "    'answers': [{'text': \"une méthode de déduction de l'orbite basée sur trois observations\",\n",
       "      'answer_start': 347}]},\n",
       "   {'question': 'Quel poste occupait Franz Xaver von Zach ?',\n",
       "    'id': 'ecae0663-2ef8-4613-8305-e02f70fe496e',\n",
       "    'answers': [{'text': 'éditeur du Monatliche Correspondenz',\n",
       "      'answer_start': 525}]}],\n",
       "  'context': \"Peu après sa découverte, Cérès s'approcha trop près du Soleil et ne put être observée à nouveau ; les autres astronomes ne purent confirmer les observations de Piazzi avant la fin de l'année. Cependant, après une telle durée, il était difficile de prédire la position exacte de Cérès. Afin de retrouver l'astéroïde, Carl Friedrich Gauss développa une méthode de déduction de l'orbite basée sur trois observations. En l'espace de quelques semaines, il prédit celle de Cérès et communiqua ses résultats à Franz Xaver von Zach, éditeur du Monatliche Correspondenz. Le 31 décembre 1801, von Zach et Heinrich Olbers confirmèrent que Cérès avait été retrouvée près de la position prévue, validant ainsi la méthode.\"},\n",
       " {'qas': [{'question': 'Pour quelles raisons seule la première partie du nom fut conservée ?',\n",
       "    'id': '0507469c-b398-44e4-a0f9-9f7508999587',\n",
       "    'answers': [{'text': 'des considérations diplomatiques',\n",
       "      'answer_start': 19}]},\n",
       "   {'question': 'Quel est le nom grec de Cérès ?',\n",
       "    'id': 'e1660553-7cbf-48b6-b877-69814f9f7a24',\n",
       "    'answers': [{'text': 'Δήμητρα', 'answer_start': 199}]},\n",
       "   {'question': 'Quel nom eut Cérès pendant un court moment en Allemagne ?',\n",
       "    'id': '67633d5c-f6f0-4ddd-9f12-05a10e07bcb2',\n",
       "    'answers': [{'text': 'Héra', 'answer_start': 127}]}],\n",
       "  'context': \"Par la suite, pour des considérations diplomatiques, seule la première partie du nom fut conservée. Cérès fut également appelé Héra en Allemagne pendant une brève période. En Grèce, elle est appelée Δήμητρα (Dêmētra, Déméter), d'après le nom en grec moderne de la déesse grecque équivalente à Cérès. Lorsque le nom « Déméter » fut attribué à son tour à l'astéroïde (1108) Déméter, cela créa un problème dans la langue grecque, qui fut résolu en utilisant le nom en grec ancien pour le nouvel objet : Δημήτηρ (Dēmêtēr). \"},\n",
       " {'qas': [{'question': \"Qu'est-ce qui résulte de la désignation des planètes mineures ?\",\n",
       "    'id': '608c3c12-9860-4db9-a4ec-f1b9a5cffe9e',\n",
       "    'answers': [{'text': \"donner aux corps dont l'orbite est connue avec certitude un numéro définitif\",\n",
       "      'answer_start': 49}]},\n",
       "   {'question': 'Dans quelle région du système solaire se trouve Cérès ?',\n",
       "    'id': 'ff323f65-4cb6-4673-ad77-b179d12dc975',\n",
       "    'answers': [{'text': \"la ceinture d'astéroïdes\", 'answer_start': 176}]},\n",
       "   {'question': 'Quelles sont les désignation scientifiques de Cérès ?',\n",
       "    'id': '028cfab9-2e41-4c39-8215-cd72ceae01a2',\n",
       "    'answers': [{'text': '(1) Cérès, ou éventuellement 1 Cérès',\n",
       "      'answer_start': 303}]},\n",
       "   {'question': 'Quel symbole astronomique évoque Cérès ?',\n",
       "    'id': '0d393395-314b-4642-b310-a3eaff3d7fab',\n",
       "    'answers': [{'text': 'un arc de cercle avec une croix pointant vers le bas et représentant une faucille',\n",
       "      'answer_start': 432}]},\n",
       "   {'question': 'Pourquoi le symbole de Cérès possède une faucille ?',\n",
       "    'id': '2f20f051-096f-4374-a19d-0bc1ee16b265',\n",
       "    'answers': [{'text': \"elle tire son nom de celui d'une déesse de l'agriculture\",\n",
       "      'answer_start': 536}]}],\n",
       "  'context': \"La désignation des planètes mineures implique de donner aux corps dont l'orbite est connue avec certitude un numéro définitif. À Cérès, en tant que premier membre découvert de la ceinture d'astéroïdes, fut rétrospectivement attribué le numéro 1. Sa désignation scientifique officielle complète est donc (1) Cérès, ou éventuellement 1 Cérès. Les premiers astéroïdes découverts possèdent un symbole astronomique et celui de Cérès est un arc de cercle avec une croix pointant vers le bas et représentant une faucille, rappelant le fait qu'elle tire son nom de celui d'une déesse de l'agriculture : ,. En codage informatique des caractères, ce symbole est présent dans la table Symboles divers du standard Unicode au code 26B3 depuis mars 2008 (Unicode 5.1.0).\"},\n",
       " {'qas': [{'question': 'Que veut dire astéroïde ?',\n",
       "    'id': '38db14c9-74cc-461a-877b-6b4f470f2e7e',\n",
       "    'answers': [{'text': 'ressemblant à une étoile', 'answer_start': 324}]},\n",
       "   {'question': 'Quel astéroïde fut le premier découvert ?',\n",
       "    'id': 'e6e919af-fb47-4138-96fe-15e3b35794c3',\n",
       "    'answers': [{'text': 'Cérès', 'answer_start': 114}]},\n",
       "   {'question': \"Qui est à l'origine du terme astéroïde ?\",\n",
       "    'id': '9d70bc89-40ad-4871-9647-3eed48b5e934',\n",
       "    'answers': [{'text': 'William Herschel', 'answer_start': 250}]},\n",
       "   {'question': 'Que dit Herschel sur ces nouveaux corps similaires ?',\n",
       "    'id': '86aa775e-15ae-44d8-85ee-691f22f311e8',\n",
       "    'answers': [{'text': \"ils ressemblent tellement à de petites étoiles qu'il est difficile de faire la différence, même avec de très bons télescopes\",\n",
       "      'answer_start': 388}]}],\n",
       "  'context': \"Au fur et à mesure que de nombreux autres objets furent découverts dans la région, les astronomes réalisèrent que Cérès n'était que le premier d'une classe de corps similaires. Ils se révélèrent très petits, ne présentant aucun disque observable, et William Herschel inventa en 1802 le terme d'« astéroïde » (c'est-à-dire « ressemblant à une étoile ») afin de les désigner, écrivant qu'« ils ressemblent tellement à de petites étoiles qu'il est difficile de faire la différence, même avec de très bons télescopes ». Cérès étant le premier astéroïde découvert, il fut désigné par (1) Cérès dans le système moderne de numérotation des astéroïdes dans les années 1850.\"},\n",
       " {'qas': [{'question': 'Quel évènement fit remonter à la surface le débat autour du statut de Cérès ?',\n",
       "    'id': 'ff4b5855-d864-4075-9036-b3ae54193476',\n",
       "    'answers': [{'text': 'le débat concernant le statut de Pluton et la définition du terme planète',\n",
       "      'answer_start': 9}]},\n",
       "   {'question': \"Quelle définition fut proposée d'une planète ?\",\n",
       "    'id': '2789fef5-29f3-4f2f-86ef-707145514ec0',\n",
       "    'answers': [{'text': \"un corps en équilibre hydrostatique en orbite autour d'une étoile et n'étant ni une étoile, ni un satellite d'une planète\",\n",
       "      'answer_start': 255}]},\n",
       "   {'question': \"Quand se mit-on d'accord sur une définition de planète ?\",\n",
       "    'id': 'b7211698-bcb0-40d7-b823-0e27ffc182bc',\n",
       "    'answers': [{'text': '24 août 2006', 'answer_start': 514}]},\n",
       "   {'question': 'Comment est caractérisé désormais Cérès ?',\n",
       "    'id': 'f6048e06-73ac-4b0e-a482-d4dcf345609a',\n",
       "    'answers': [{'text': 'planète naine', 'answer_start': 625}]}],\n",
       "  'context': \"En 2006, le débat concernant le statut de Pluton et la définition du terme planète conduisit à reconsidérer le statut de Cérès,. L'une des propositions de définitions présentées devant l'Union astronomique internationale pour la définition d'une planète (un corps en équilibre hydrostatique en orbite autour d'une étoile et n'étant ni une étoile, ni un satellite d'une planète) aurait fait de Cérès la cinquième planète à partir du Soleil. Cette définition ne fut pas adoptée. La définition finale fut annoncée le 24 août 2006, ajoutant qu'une planète devait avoir « nettoyé son voisinage ». Cérès fut alors catégorisé comme planète naine.\"},\n",
       " {'qas': [{'question': 'Selon les observations de la sonde Dawn à quand remonte la formation de Cérès ?',\n",
       "    'id': '73e1bcbe-78fb-4069-a567-d024bb590a2a',\n",
       "    'answers': [{'text': \"il y a 4,57 milliards d'années\",\n",
       "      'answer_start': 86}]},\n",
       "   {'question': \"Pourquoi Pallas et Vesta ne peuvent pas être d'anciennes protoplanètes ?\",\n",
       "    'id': '30ba6088-fb64-40fb-a3e3-8664e7b7c8d0',\n",
       "    'answers': [{'text': 'ne possèdent pas une forme sphérique',\n",
       "      'answer_start': 353}]},\n",
       "   {'question': \"Que serait à l'origine de la forme non sphérique de Vesta ?\",\n",
       "    'id': '46104036-ea96-49cf-ae4b-084b21af87e8',\n",
       "    'answers': [{'text': 'un impact majeur après son accrétion',\n",
       "      'answer_start': 466}]},\n",
       "   {'question': 'Quel autre astéroide aurait pu subir un même impact ?',\n",
       "    'id': 'c6282986-5f19-495c-b6a0-18128ad3e2cc',\n",
       "    'answers': [{'text': 'Ida', 'answer_start': 518}]}],\n",
       "  'context': \"Les observations de la sonde Dawn suggèrent que Cérès s'est formée au-delà de Neptune il y a 4,57 milliards d'années avant d'être éjectée de son orbite primordiale par la Grande Migration planétaire pour se stabiliser dans la ceinture d'astéroïdes. Dans la ceinture d'astéroïdes, Pallas et Vesta pourraient également être d'anciennes protoplanètes mais ne possèdent pas une forme sphérique — dans le cas de Vesta, cette difformité pourrait être principalement due à un impact majeur après son accrétion. Il se peut qu'Ida, un autre corps de la ceinture d'astéroïdes, ait une origine identique.\"},\n",
       " {'qas': [{'question': \"Pourquoi Cérès s'est différencié entre un noyau rocheux et un manteau de glace ?\",\n",
       "    'id': '10ccbaf3-27a4-49a1-8107-678a5ecf2a6c',\n",
       "    'answers': [{'text': \"l'échauffement provoqué par l'accrétion et peut-être par la désintégration de radioisotopes disparus depuis lors\",\n",
       "      'answer_start': 108}]},\n",
       "   {'question': \"Qu'est-ce qui provoqua un volcanisme d'eau ?\",\n",
       "    'id': 'b038372e-4b0d-4b92-8700-bba74297eca9',\n",
       "    'answers': [{'text': \"l'échauffement provoqué par l'accrétion et peut-être par la désintégration de radioisotopes disparus depuis lors\",\n",
       "      'answer_start': 108}]},\n",
       "   {'question': \"Que causa l'épuisement rapide des sources de chaleur ?\",\n",
       "    'id': 'f90d47da-ee01-41ca-a218-6354dcafff7e',\n",
       "    'answers': [{'text': 'Cérès se refroidit', 'answer_start': 374}]},\n",
       "   {'question': 'Comment peut-on désormais qualifier Cérès ?',\n",
       "    'id': '199ffb64-3ec9-42c8-a4e2-03b719e272c9',\n",
       "    'answers': [{'text': \"un corps géologiquement mort dont la surface n'est plus sculptée que par des impacts\",\n",
       "      'answer_start': 608}]}],\n",
       "  'context': \"Peu après sa formation, Cérès s'est différencié entre un noyau rocheux et un manteau de glace, en raison de l'échauffement provoqué par l'accrétion et peut-être par la désintégration de radioisotopes disparus depuis lors, comme 26Al,. Ce processus provoqua un volcanisme d'eau et une tectonique, qui firent disparaître de nombreuses caractéristiques géologiques. Cependant, Cérès se refroidit par la suite en raison de l'épuisement rapide des sources de chaleur. La glace de la surface s'est graduellement sublimée, laissant derrière elle divers minéraux hydratés : argile et carbonates. Cérès est désormais un corps géologiquement mort dont la surface n'est plus sculptée que par des impacts.\"},\n",
       " {'qas': [{'question': \"Quelle hypothèse a été soulevé par l'existence de quantités importantes de glace d'eau dans Cérès ?\",\n",
       "    'id': '11afa960-ffcf-4b58-b814-16ca38501b24',\n",
       "    'answers': [{'text': \"couche d'eau liquide\", 'answer_start': 97}]},\n",
       "   {'question': \"Où devait se trouver la couche d'eau liquide sur Cérès ?\",\n",
       "    'id': '896bc528-a91b-435e-822f-55b1675454da',\n",
       "    'answers': [{'text': 'entre le noyau et le manteau de glace',\n",
       "      'answer_start': 242}]},\n",
       "   {'question': \"Où devait se trouver la couche d'eau liquide sur Cérès ?\",\n",
       "    'id': '896bc528-a91b-435e-822f-55b1675454da',\n",
       "    'answers': [{'text': 'entre le noyau et le manteau de glace',\n",
       "      'answer_start': 242}]},\n",
       "   {'question': \"Où devait se trouver la couche d'eau liquide sur Cérès ?\",\n",
       "    'id': '896bc528-a91b-435e-822f-55b1675454da',\n",
       "    'answers': [{'text': 'entre le noyau et le manteau de glace',\n",
       "      'answer_start': 242}]}],\n",
       "  'context': \"L'existence de quantités significatives de glace d'eau dans Cérès a soulevé la possibilité d'une couche d'eau liquide (éventuellement déjà solidifiée). Cette couche hypothétique, parfois appelée un océan, est - ou était - probablement située entre le noyau et le manteau de glace comme sur Europe. L'existence d'un océan est plus probable si de l'ammoniac ou d'autres substances dissoutes (comme des sels) agissant comme antigel, sont présentes dans l'eau. L'existence possible d'eau liquide dans Cérès en fait une cible potentielle des recherches de vie extraterrestre.\"},\n",
       " {'qas': [{'question': 'Entre quelles planètes se trouve Cérès ?',\n",
       "    'id': 'aec01e08-6a9a-416d-845c-21ed604a06df',\n",
       "    'answers': [{'text': 'entre Mars et Jupiter', 'answer_start': 47}]},\n",
       "   {'question': 'En combien de temps Cérès accomplit-il une révolution autour de son astre ?',\n",
       "    'id': '3f479774-a638-4eb5-9628-a71c83c13154',\n",
       "    'answers': [{'text': '4,6 ans', 'answer_start': 136}]},\n",
       "   {'question': \"Quelle est l'inclinaison de l'orbite par rapport au plan de l'écliptique ?\",\n",
       "    'id': '3f934ce0-c8cf-49b6-898b-2254c60ca97e',\n",
       "    'answers': [{'text': '10,6°', 'answer_start': 181}]},\n",
       "   {'question': \"Quelle est l'inclinaison de l'orbite par rapport au plan de l'écliptique ?\",\n",
       "    'id': '3f934ce0-c8cf-49b6-898b-2254c60ca97e',\n",
       "    'answers': [{'text': '10,6°', 'answer_start': 181}]}],\n",
       "  'context': \"Cérès est située sur une orbite héliocentrique entre Mars et Jupiter, au sein de la ceinture d'astéroïdes principale. Sa période est de 4,6 ans. Son orbite est modérément inclinée (10,6° par rapport au plan de l'écliptique, à comparer à 7° pour Mercure et 17° pour Pluton) et faiblement excentrique (0,08, celle de Mars vaut 0,09). Les observations effectuées par Hubble en 2003-2004 permirent de déterminer que le pôle Nord de Cérès pointe (à 5° près) dans la direction d'ascension droite 19h 41m et de déclinaison +59°, dans la constellation du Dragon ; l'inclinaison de l'axe de Cérès est très faible (environ 4 ± 5 °),.\"},\n",
       " {'qas': [{'question': 'Quelle pourrait être une potentielle origine commune ?',\n",
       "    'id': '76fffd02-be60-4602-b0e5-172a7d882301',\n",
       "    'answers': [{'text': \"à la suite d'une collision\", 'answer_start': 204}]},\n",
       "   {'question': \"Qu'est-ce qui distingue Cérès des autres astéroïdes ?\",\n",
       "    'id': '05c514bb-0d00-4c51-9523-b3ab17c13227',\n",
       "    'answers': [{'text': 'des propriétés spectrales distinctes',\n",
       "      'answer_start': 257}]},\n",
       "   {'question': \"Qu'est-ce qui distingue Cérès des autres astéroïdes ?\",\n",
       "    'id': '05c514bb-0d00-4c51-9523-b3ab17c13227',\n",
       "    'answers': [{'text': 'des propriétés spectrales distinctes',\n",
       "      'answer_start': 257}]},\n",
       "   {'question': \"Qu'est-ce qui distingue Cérès des autres astéroïdes ?\",\n",
       "    'id': '05c514bb-0d00-4c51-9523-b3ab17c13227',\n",
       "    'answers': [{'text': 'des propriétés spectrales distinctes',\n",
       "      'answer_start': 257}]}],\n",
       "  'context': \"Par le passé, Cérès était considéré comme membre d'une famille d'astéroïdes, un regroupement d'astéroïdes qui partagent des éléments orbitaux similaires et peuvent avoir une origine commune (par exemple, à la suite d'une collision). Cérès possède cependant des propriétés spectrales distinctes des autres membres de cette famille et ce regroupement est désormais appelé famille de Gefion, d'après son membre possédant le numéro le plus petit, (1272) Gefion. Cérès est simplement un intrus dans cette famille, partageant des éléments orbitaux mais pas une origine commune.\"},\n",
       " {'qas': [{'question': \"A quel groupe d'astéroïde le composition de la surface de Cérès est très proche ?\",\n",
       "    'id': '4e1d004b-d1af-4bae-9a6b-1ec4148c68a1',\n",
       "    'answers': [{'text': 'astéroïdes de type C', 'answer_start': 95}]},\n",
       "   {'question': 'Que possède Cérès dans sa composition que les autres astéroïdes de type C ne possèdent pas ?',\n",
       "    'id': 'bcc7d266-7385-4406-b285-1fe3ffd5f72f',\n",
       "    'answers': [{'text': \"carbonates et de l'argile\", 'answer_start': 527}]},\n",
       "   {'question': 'A quel groupe appartient Cérès ?',\n",
       "    'id': '781ef943-2516-41c1-802f-f923c09b2f5c',\n",
       "    'answers': [{'text': 'astéroïde de type G', 'answer_start': 661}]},\n",
       "   {'question': 'A quel groupe appartient Cérès ?',\n",
       "    'id': '781ef943-2516-41c1-802f-f923c09b2f5c',\n",
       "    'answers': [{'text': 'astéroïde de type G', 'answer_start': 661}]}],\n",
       "  'context': \"La composition de la surface de Cérès est largement similaire, mais pas identique, à celle des astéroïdes de type C. Le spectre infrarouge de Cérès fait apparaître des matériaux hydratés qui indiquent la présence de quantités significatives d'eau à l'intérieur de l'objet. Parmi les autres possibles constituants de la surface, il y aurait de l'argile riche en fer (cronstedtite) et des composés carbonatés (dolomite et sidérite), minéraux courants dans les météorites chondrites carbonées. Les caractéristiques spectrales des carbonates et de l'argile sont généralement absentes du spectre des autres astéroïdes de type C. Cérès est parfois classifié comme un astéroïde de type G.\"},\n",
       " {'qas': [{'question': \"Vers quelle longueur d'onde retrouve-t-on un pic d'absorption ?\",\n",
       "    'id': '3c378fe2-40d3-4059-a100-1149d9fc362f',\n",
       "    'answers': [{'text': '3,4 µm', 'answer_start': 138}]},\n",
       "   {'question': \"Quel appareil a relevé un pic d'absorption ?\",\n",
       "    'id': '2b95cd15-c455-4068-98f3-019abc4481d2',\n",
       "    'answers': [{'text': 'spectromètre', 'answer_start': 62}]},\n",
       "   {'question': \"Qu'illustre le pic d'absorption ?\",\n",
       "    'id': 'fd2439ba-da50-4be2-937b-029bb4b467bd',\n",
       "    'answers': [{'text': 'matière organique aliphatique',\n",
       "      'answer_start': 184}]},\n",
       "   {'question': 'Près de quel cratère retrouve-t-on de la matière organique aliphatique ?',\n",
       "    'id': 'cdc13e56-044b-43a1-9da0-9aab14002dde',\n",
       "    'answers': [{'text': 'cratère Ernutet', 'answer_start': 297}]}],\n",
       "  'context': \"La cartographie opérée dans le visible et l'infrarouge par le spectromètre à bord de Dawn a révélé la présence d'un pic d'absorption vers 3,4 µm. Ce pic, qui est caractéristique de la matière organique aliphatique, est principalement observable dans une région d'environ 1 000 km2, à proximité du cratère Ernutet. La présence sur Cérès de minéraux hydratés contenant de l'ammoniac, de la glace d'eau, des carbonates, des sels et de la matière organique indique un environnement chimique très complexe, éventuellement favorable à la chimie prébiotique,.\"},\n",
       " {'qas': [{'question': 'A quand remonte le pic de température diurne ?',\n",
       "    'id': 'ed739036-6ace-4b74-90ba-febbe64c864e',\n",
       "    'answers': [{'text': '5 mai 1991', 'answer_start': 116}]},\n",
       "   {'question': 'En Kelvin à combien montait la température diurne à son pic ?',\n",
       "    'id': 'b6e1c31c-6c88-449f-8330-79c0397ebc8c',\n",
       "    'answers': [{'text': '235 K', 'answer_start': 90}]},\n",
       "   {'question': \"Comment a-t-on détecté de la vapeur d'eau près du pole nord ?\",\n",
       "    'id': 'fa6f7fd4-2e05-4c30-881c-434cd6a4282e',\n",
       "    'answers': [{'text': 'le télescope International Ultraviolet Explorer (IUE)',\n",
       "      'answer_start': 444}]}],\n",
       "  'context': \"La surface de Cérès est relativement chaude. La température diurne maximale fut estimée à 235 K (environ −38 °C) le 5 mai 1991. En tenant compte de la distance de Cérès au Soleil lors de cette mesure, il fut possible d'estimer que la température maximale est d'environ 239 K (environ −34 °C) au périhélie. Quelques indices laissent à penser que Cérès possède une atmosphère ténue et du givre. Des observations dans l'ultraviolet effectuées par le télescope International Ultraviolet Explorer (IUE) ont détecté de la vapeur d'eau près du pôle nord.\"},\n",
       " {'qas': [{'question': 'Quel télescope découvrit Piazzi en premier ?',\n",
       "    'id': '6363a6b5-89ad-49a2-9ae8-b8800640a391',\n",
       "    'answers': [{'text': 'Hubble', 'answer_start': 164}]},\n",
       "   {'question': 'A quand remonte la découverte du point sombre ?',\n",
       "    'id': 'a9b5137e-3e99-4de2-993e-bc46139ca4b3',\n",
       "    'answers': [{'text': '1995', 'answer_start': 174}]},\n",
       "   {'question': 'Qui se nommait également Piazzi ?',\n",
       "    'id': 'cf46e243-31a2-4044-bb28-de210b926d37',\n",
       "    'answers': [{'text': 'découvreur de Cérès', 'answer_start': 266}]},\n",
       "   {'question': 'Quelle méthode utilisa le télescope Keck ?',\n",
       "    'id': '86b0566d-ad3c-41ee-9e15-f3a2a4761ce5',\n",
       "    'answers': [{'text': 'optique adaptative sur une rotation complète',\n",
       "      'answer_start': 418}]},\n",
       "   {'question': 'A quand remonte les dernières images prises par Hubble en lumière visible ?',\n",
       "    'id': 'c0af1814-bf46-4aaa-8337-47b294037b36',\n",
       "    'answers': [{'text': '2003 et 2004', 'answer_start': 802}]}],\n",
       "  'context': \"Il existe divers points singuliers de nature incertaine à la surface de Cérès. Les photographies ultraviolettes en haute résolution prises par le télescope spatial Hubble en 1995 montrèrent un point sombre sur sa surface, qui fut surnommé « Piazzi » en l'honneur du découvreur de Cérès et dont on pensait qu'il s'agissait d'un cratère. Des images ultérieures, prises en plus haute résolution par le télescope Keck par optique adaptative sur une rotation complète, ne montrèrent aucun signe de « Piazzi ». Cependant, deux zones sombres semblaient se déplacer avec la rotation de la planète naine, l'une d'entre elles possédant une région centrale brillante. Les scientifiques ont émis l'hypothèse qu'il s'agit également de cratères. Les images les plus récentes, prises par Hubble en lumière visible en 2003 et 2004, mettent en évidence onze points singuliers de nature inconnue à la surface de Cérès,. L'une de ces zones correspond à « Piazzi ». Les zones de faible albédo observées par Keck n'ont pas pu être identifiées sur ces images.\"},\n",
       " {'qas': [{'question': 'Quelle découverte fit la sonde Dawn en 2015 ?',\n",
       "    'id': '34da2f97-2022-4321-91dd-565958fa420d',\n",
       "    'answers': [{'text': 'le mont Ahuna', 'answer_start': 58}]},\n",
       "   {'question': \"Quel est l'altitude du mont Ahuna ?\",\n",
       "    'id': '6ba30a04-6b9c-4644-8bdb-48b1b955c382',\n",
       "    'answers': [{'text': '6 000 mètres', 'answer_start': 116}]},\n",
       "   {'question': 'Quelles particularités possède le mont Ahuna ?',\n",
       "    'id': '7e27d67a-ea07-4e5c-a875-0229ca8964d2',\n",
       "    'answers': [{'text': 'de mystérieuses taches claires au fond de différents cratères',\n",
       "      'answer_start': 151}]},\n",
       "   {'question': 'Quel est le diamètre de Yalode ?',\n",
       "    'id': '1aa8f7bf-b9e1-48b8-a696-ee00e904664b',\n",
       "    'answers': [{'text': '270 km', 'answer_start': 480}]}],\n",
       "  'context': \"Autres curiosités découvertes par la sonde Dawn en 2015 : le mont Ahuna, une montagne de forme conique et d'environ 6 000 mètres d'altitude et surtout de mystérieuses taches claires au fond de différents cratères, dont les plus spectaculaires sont celles du cratère Occator, large de 90 km, et que l'on retrouve également sur le cratère Kupalo (26 km de diamètre), photographié le 21 décembre 2015 à 385 km d'altitude. Parmi les autres cratères particulièrement étudiés : Yalode (270 km de diamètre), Urvara (en) (160 km de diamètre), Dantu (120 km de diamètre, typique pour son sol fracturé), Ikapati (50 km de diamètre) et Haulani (30 km de diamètre), dont les survols sont reconstitués dans un film réalisé par la NASA en images de synthèse.\"},\n",
       " {'qas': [{'question': 'Qui et quand peut-on percevoir la planète naine à oeil nu ?',\n",
       "    'id': '30496087-e1b3-420a-ba33-caac58c341a4',\n",
       "    'answers': [{'text': \"une personne dotée d'une excellente vue et dans des conditions d'observation exceptionnelles\",\n",
       "      'answer_start': 250}]},\n",
       "   {'question': 'Quelle astéroïde peut le plus fréquemment atteindre une magnitude de +6,7 ?',\n",
       "    'id': '87d49188-a724-4119-a5b5-5f4fb5224686',\n",
       "    'answers': [{'text': 'Vesta', 'answer_start': 438}]},\n",
       "   {'question': 'A quand remonte le dernier pic de magnitude de Vesta ?',\n",
       "    'id': '6a79d787-4fa6-485c-9a3a-e58d1c343b78',\n",
       "    'answers': [{'text': 'mai et juin 2007', 'answer_start': 647}]},\n",
       "   {'question': 'Quand est-ce que la planète naine peut être vu aux jumelles ?',\n",
       "    'id': '7f635e4a-a02c-46fd-b995-173f439ddbdd',\n",
       "    'answers': [{'text': \"dès qu'elle est au-dessus de l'horizon par une nuit noire\",\n",
       "      'answer_start': 871}]}],\n",
       "  'context': \"Lorsque Cérès est en opposition à proximité de son périhélie, il peut atteindre une magnitude apparente de +6,7. On considère généralement que cette valeur est trop faible pour que l'objet soit visible à l'œil nu, mais il est néanmoins possible pour une personne dotée d'une excellente vue et dans des conditions d'observation exceptionnelles de percevoir la planète naine. Les seuls astéroïdes pouvant atteindre une telle magnitude sont Vesta et, pendant de rares oppositions à leur périhélie, Pallas et Iris. Au maximum de sa luminosité, Cérès n'est pas l'astéroïde le plus brillant ; Vesta peut atteindre la magnitude +5,4, la dernière fois en mai et juin 2007. Aux conjonctions, Cérès atteint la magnitude de +9,3, ce qui correspond aux objets les moins lumineux qui puissent être visibles à l'aide de jumelles 10×50. La planète naine peut donc être vue aux jumelles dès qu'elle est au-dessus de l'horizon par une nuit noire. Pallas et Iris sont invisibles aux jumelles par de petites élongations.\"},\n",
       " {'qas': [{'question': 'Quand est-ce que les conclusions sur les observations de 2016 sont publiées ?',\n",
       "    'id': 'e4d8495e-27ea-4d7f-b43e-db25e79c0110',\n",
       "    'answers': [{'text': 'mars 2018', 'answer_start': 3}]},\n",
       "   {'question': 'Quel observatoire a réalisé ces observations ?',\n",
       "    'id': '509caac9-414d-41d2-a2ba-5e9e7513edd8',\n",
       "    'answers': [{'text': 'Dawn', 'answer_start': 90}]},\n",
       "   {'question': \"En dehors de la structure de Cérès qu'illustre ces observations ?\",\n",
       "    'id': 'ac6be897-99b6-4fa2-992a-a31351182d11',\n",
       "    'answers': [{'text': \"il s'agit d'une planète naine encore très active avec une augmentation de la quantité d'eau glacée sur les murs de cratère\",\n",
       "      'answer_start': 210}]},\n",
       "   {'question': \"Qu'est-ce qui est ainsi montré au grand public ?\",\n",
       "    'id': 'a73e184e-e20a-4264-a5c0-e13c80a3bc3b',\n",
       "    'answers': [{'text': 'des images extraordinaires de Cérès',\n",
       "      'answer_start': 497}]}],\n",
       "  'context': \"En mars 2018, de nouvelles conclusions sont publiées sur la base de données observées par Dawn d'avril à octobre 2016. Elles mettent en évidence une structure plus complexe que prévu, et surtout elle montre qu'il s'agit d'une planète naine encore très active avec une augmentation de la quantité d'eau glacée sur les murs de cratère,. Il s'agit là de la première fois où une évolution de la surface de Cérès est mise en évidence. Ces observations permettent également au grand public de découvrir des images extraordinaires de Cérès.\"}]"
      ]
     },
     "execution_count": 10,
     "metadata": {},
     "output_type": "execute_result"
    }
   ],
   "source": [
    "train_df.iloc[0]['data']['paragraphs']"
   ]
  },
  {
   "cell_type": "code",
   "execution_count": 11,
   "metadata": {},
   "outputs": [
    {
     "name": "stdout",
     "output_type": "stream",
     "text": [
      "<class 'list'>\n"
     ]
    },
    {
     "data": {
      "text/plain": [
       "19"
      ]
     },
     "execution_count": 11,
     "metadata": {},
     "output_type": "execute_result"
    }
   ],
   "source": [
    "print(type(train_df.iloc[0]['data']['paragraphs']))\n",
    "len(train_df.iloc[0]['data']['paragraphs'])"
   ]
  },
  {
   "cell_type": "code",
   "execution_count": 12,
   "metadata": {},
   "outputs": [
    {
     "data": {
      "text/plain": [
       "dict_keys(['qas', 'context'])"
      ]
     },
     "execution_count": 12,
     "metadata": {},
     "output_type": "execute_result"
    }
   ],
   "source": [
    "train_df.iloc[0]['data']['paragraphs'][0].keys()"
   ]
  },
  {
   "cell_type": "code",
   "execution_count": 13,
   "metadata": {
    "scrolled": true
   },
   "outputs": [
    {
     "data": {
      "text/plain": [
       "{'qas': [{'question': \"Quel astronome a émit l'idée en premier d'une planète entre les orbites de Mars et Jupiter ?\",\n",
       "   'id': '9f38825f-1bd3-4171-9d3b-b0c2c71e7de2',\n",
       "   'answers': [{'text': 'Johann Elert Bode', 'answer_start': 136}]},\n",
       "  {'question': 'Quel astronome découvrit Uranus ?',\n",
       "   'id': 'c2415641-9a62-4052-b57b-9a239da7599c',\n",
       "   'answers': [{'text': 'William Herschel', 'answer_start': 404}]},\n",
       "  {'question': 'Quelles furent les découvertes finales des vingt-quatre astronomes ?',\n",
       "   'id': '5c59e19a-066c-4dc0-aa16-2871dcb12d39',\n",
       "   'answers': [{'text': 'plusieurs autres astéroïdes', 'answer_start': 733}]},\n",
       "  {'question': 'Quelles furent les découvertes finales des vingt-quatre astronomes ?',\n",
       "   'id': '5c59e19a-066c-4dc0-aa16-2871dcb12d39',\n",
       "   'answers': [{'text': 'plusieurs autres astéroïdes', 'answer_start': 733}]}],\n",
       " 'context': \"L'idée selon laquelle une planète inconnue pourrait exister entre les orbites de Mars et Jupiter fut proposée pour la première fois par Johann Elert Bode en 1768. Ses suggestions étaient basées sur la loi de Titius-Bode, une théorie désormais obsolète proposée par Johann Daniel Titius en 1766,. Selon cette loi, le demi-grand axe de cette planète aurait été d'environ 2,8 ua. La découverte d'Uranus par William Herschel en 1781 accrut la confiance dans la loi de Titius-Bode et, en 1800, vingt-quatre astronomes expérimentés combinèrent leurs efforts et entreprirent une recherche méthodique de la planète proposée,. Le groupe était dirigé par Franz Xaver von Zach. Bien qu'ils n'aient pas découvert Cérès, ils trouvèrent néanmoins plusieurs autres astéroïdes.\"}"
      ]
     },
     "execution_count": 13,
     "metadata": {},
     "output_type": "execute_result"
    }
   ],
   "source": [
    "train_df.iloc[0]['data']['paragraphs'][0]"
   ]
  },
  {
   "cell_type": "code",
   "execution_count": 14,
   "metadata": {},
   "outputs": [
    {
     "data": {
      "text/plain": [
       "\"L'idée selon laquelle une planète inconnue pourrait exister entre les orbites de Mars et Jupiter fut proposée pour la première fois par Johann Elert Bode en 1768. Ses suggestions étaient basées sur la loi de Titius-Bode, une théorie désormais obsolète proposée par Johann Daniel Titius en 1766,. Selon cette loi, le demi-grand axe de cette planète aurait été d'environ 2,8 ua. La découverte d'Uranus par William Herschel en 1781 accrut la confiance dans la loi de Titius-Bode et, en 1800, vingt-quatre astronomes expérimentés combinèrent leurs efforts et entreprirent une recherche méthodique de la planète proposée,. Le groupe était dirigé par Franz Xaver von Zach. Bien qu'ils n'aient pas découvert Cérès, ils trouvèrent néanmoins plusieurs autres astéroïdes.\""
      ]
     },
     "execution_count": 14,
     "metadata": {},
     "output_type": "execute_result"
    }
   ],
   "source": [
    "train_df.iloc[0]['data']['paragraphs'][0]['context']"
   ]
  },
  {
   "cell_type": "markdown",
   "metadata": {},
   "source": [
    "Organization of the data :\n",
    "\n",
    "Every dataframe element contains several paragraphs of a same text.\n",
    "Every paragraph contains a list of questions / answers and the complete text of the paragraph."
   ]
  },
  {
   "cell_type": "markdown",
   "metadata": {},
   "source": [
    "## OKAPI BM25"
   ]
  },
  {
   "cell_type": "markdown",
   "metadata": {},
   "source": [
    "### Process the paragraphs"
   ]
  },
  {
   "cell_type": "code",
   "execution_count": 15,
   "metadata": {
    "scrolled": false
   },
   "outputs": [
    {
     "name": "stdout",
     "output_type": "stream",
     "text": [
      "['au', 'aux', 'avec', 'ce', 'ces', 'dans', 'de', 'des', 'du', 'elle', 'en', 'et', 'eux', 'il', 'ils', 'je', 'la', 'le', 'les', 'leur', 'lui', 'ma', 'mais', 'me', 'même', 'mes', 'moi', 'mon', 'ne', 'nos', 'notre', 'nous', 'on', 'ou', 'par', 'pas', 'pour', 'qu', 'que', 'qui', 'sa', 'se', 'ses', 'son', 'sur', 'ta', 'te', 'tes', 'toi', 'ton', 'tu', 'un', 'une', 'vos', 'votre', 'vous', 'c', 'd', 'j', 'l', 'à', 'm', 'n', 's', 't', 'y', 'été', 'étée', 'étées', 'étés', 'étant', 'étante', 'étants', 'étantes', 'suis', 'es', 'est', 'sommes', 'êtes', 'sont', 'serai', 'seras', 'sera', 'serons', 'serez', 'seront', 'serais', 'serait', 'serions', 'seriez', 'seraient', 'étais', 'était', 'étions', 'étiez', 'étaient', 'fus', 'fut', 'fûmes', 'fûtes', 'furent', 'sois', 'soit', 'soyons', 'soyez', 'soient', 'fusse', 'fusses', 'fût', 'fussions', 'fussiez', 'fussent', 'ayant', 'ayante', 'ayantes', 'ayants', 'eu', 'eue', 'eues', 'eus', 'ai', 'as', 'avons', 'avez', 'ont', 'aurai', 'auras', 'aura', 'aurons', 'aurez', 'auront', 'aurais', 'aurait', 'aurions', 'auriez', 'auraient', 'avais', 'avait', 'avions', 'aviez', 'avaient', 'eut', 'eûmes', 'eûtes', 'eurent', 'aie', 'aies', 'ait', 'ayons', 'ayez', 'aient', 'eusse', 'eusses', 'eût', 'eussions', 'eussiez', 'eussent']\n"
     ]
    },
    {
     "name": "stderr",
     "output_type": "stream",
     "text": [
      "[nltk_data] Downloading package stopwords to\n",
      "[nltk_data]     C:\\Users\\nassy\\AppData\\Roaming\\nltk_data...\n",
      "[nltk_data]   Package stopwords is already up-to-date!\n"
     ]
    }
   ],
   "source": [
    "import nltk\n",
    "from nltk.corpus import stopwords\n",
    "\n",
    "nltk.download('stopwords')\n",
    "print(stopwords.words('french'))"
   ]
  },
  {
   "cell_type": "code",
   "execution_count": 16,
   "metadata": {},
   "outputs": [],
   "source": [
    "def remove_stopwords(text):\n",
    "    stop = stopwords.words('french')\n",
    "    ans = []\n",
    "    \n",
    "    for word in text:\n",
    "        if not word in stop:\n",
    "            for char in [',', '.', ':', ';']:\n",
    "                word = word.replace(char, '')\n",
    "            ans.append(word)\n",
    "            \n",
    "    return ans"
   ]
  },
  {
   "cell_type": "code",
   "execution_count": 17,
   "metadata": {},
   "outputs": [],
   "source": [
    "# Create a list of documents\n",
    "contexts = []\n",
    "\n",
    "for i in range(len(train_df)):\n",
    "    for j in range(len(train_df.iloc[i]['data']['paragraphs'])):\n",
    "        text = remove_stopwords(train_df.iloc[i]['data']['paragraphs'][j]['context'].split())\n",
    "        contexts.append(text)"
   ]
  },
  {
   "cell_type": "code",
   "execution_count": 18,
   "metadata": {
    "scrolled": true
   },
   "outputs": [
    {
     "data": {
      "text/plain": [
       "[\"L'idée\",\n",
       " 'selon',\n",
       " 'laquelle',\n",
       " 'planète',\n",
       " 'inconnue',\n",
       " 'pourrait',\n",
       " 'exister',\n",
       " 'entre',\n",
       " 'orbites',\n",
       " 'Mars',\n",
       " 'Jupiter',\n",
       " 'proposée',\n",
       " 'première',\n",
       " 'fois',\n",
       " 'Johann',\n",
       " 'Elert',\n",
       " 'Bode',\n",
       " '1768',\n",
       " 'Ses',\n",
       " 'suggestions',\n",
       " 'basées',\n",
       " 'loi',\n",
       " 'Titius-Bode',\n",
       " 'théorie',\n",
       " 'désormais',\n",
       " 'obsolète',\n",
       " 'proposée',\n",
       " 'Johann',\n",
       " 'Daniel',\n",
       " 'Titius',\n",
       " '1766',\n",
       " 'Selon',\n",
       " 'cette',\n",
       " 'loi',\n",
       " 'demi-grand',\n",
       " 'axe',\n",
       " 'cette',\n",
       " 'planète',\n",
       " \"d'environ\",\n",
       " '28',\n",
       " 'ua',\n",
       " 'La',\n",
       " 'découverte',\n",
       " \"d'Uranus\",\n",
       " 'William',\n",
       " 'Herschel',\n",
       " '1781',\n",
       " 'accrut',\n",
       " 'confiance',\n",
       " 'loi',\n",
       " 'Titius-Bode',\n",
       " 'et',\n",
       " '1800',\n",
       " 'vingt-quatre',\n",
       " 'astronomes',\n",
       " 'expérimentés',\n",
       " 'combinèrent',\n",
       " 'leurs',\n",
       " 'efforts',\n",
       " 'entreprirent',\n",
       " 'recherche',\n",
       " 'méthodique',\n",
       " 'planète',\n",
       " 'proposée',\n",
       " 'Le',\n",
       " 'groupe',\n",
       " 'dirigé',\n",
       " 'Franz',\n",
       " 'Xaver',\n",
       " 'von',\n",
       " 'Zach',\n",
       " 'Bien',\n",
       " \"qu'ils\",\n",
       " \"n'aient\",\n",
       " 'découvert',\n",
       " 'Cérès',\n",
       " 'trouvèrent',\n",
       " 'néanmoins',\n",
       " 'plusieurs',\n",
       " 'autres',\n",
       " 'astéroïdes']"
      ]
     },
     "execution_count": 18,
     "metadata": {},
     "output_type": "execute_result"
    }
   ],
   "source": [
    "contexts[0]"
   ]
  },
  {
   "cell_type": "code",
   "execution_count": 19,
   "metadata": {},
   "outputs": [],
   "source": [
    "# Stemming the text\n",
    "from nltk.stem.snowball import SnowballStemmer\n",
    "\n",
    "stemmer = SnowballStemmer(\"french\")\n",
    "\n",
    "contexts = [[stemmer.stem(word) for word in context] for context in contexts]"
   ]
  },
  {
   "cell_type": "code",
   "execution_count": 20,
   "metadata": {
    "scrolled": true
   },
   "outputs": [
    {
     "data": {
      "text/plain": [
       "[\"l'id\",\n",
       " 'selon',\n",
       " 'laquel',\n",
       " 'planet',\n",
       " 'inconnu',\n",
       " 'pourr',\n",
       " 'exist',\n",
       " 'entre',\n",
       " 'orbit',\n",
       " 'mar',\n",
       " 'jupit',\n",
       " 'propos',\n",
       " 'premi',\n",
       " 'fois',\n",
       " 'johann',\n",
       " 'elert',\n",
       " 'bod',\n",
       " '1768',\n",
       " 'se',\n",
       " 'suggest',\n",
       " 'bas',\n",
       " 'loi',\n",
       " 'titius-bod',\n",
       " 'théor',\n",
       " 'désorm',\n",
       " 'obsolet',\n",
       " 'propos',\n",
       " 'johann',\n",
       " 'daniel',\n",
       " 'titius',\n",
       " '1766',\n",
       " 'selon',\n",
       " 'cet',\n",
       " 'loi',\n",
       " 'demi-grand',\n",
       " 'axe',\n",
       " 'cet',\n",
       " 'planet',\n",
       " \"d'environ\",\n",
       " '28',\n",
       " 'ua',\n",
       " 'la',\n",
       " 'découvert',\n",
       " \"d'uranus\",\n",
       " 'william',\n",
       " 'herschel',\n",
       " '1781',\n",
       " 'accrut',\n",
       " 'confianc',\n",
       " 'loi',\n",
       " 'titius-bod',\n",
       " 'et',\n",
       " '1800',\n",
       " 'vingt-quatr',\n",
       " 'astronom',\n",
       " 'expériment',\n",
       " 'combin',\n",
       " 'leur',\n",
       " 'effort',\n",
       " 'entrepr',\n",
       " 'recherch',\n",
       " 'méthod',\n",
       " 'planet',\n",
       " 'propos',\n",
       " 'le',\n",
       " 'group',\n",
       " 'dirig',\n",
       " 'franz',\n",
       " 'xav',\n",
       " 'von',\n",
       " 'zach',\n",
       " 'bien',\n",
       " \"qu'il\",\n",
       " \"n'aient\",\n",
       " 'découvert',\n",
       " 'céres',\n",
       " 'trouv',\n",
       " 'néanmoin',\n",
       " 'plusieur',\n",
       " 'autr',\n",
       " 'astéroïd']"
      ]
     },
     "execution_count": 20,
     "metadata": {},
     "output_type": "execute_result"
    }
   ],
   "source": [
    "contexts[0]"
   ]
  },
  {
   "cell_type": "code",
   "execution_count": 21,
   "metadata": {},
   "outputs": [],
   "source": [
    "# Change contexts into a bags of words\n",
    "\n",
    "bows = []\n",
    "\n",
    "for text in contexts:\n",
    "    bows.append({})\n",
    "    for word in text:\n",
    "         bows[-1][word] = bows[-1].get(word, 0) + 1"
   ]
  },
  {
   "cell_type": "code",
   "execution_count": 22,
   "metadata": {
    "scrolled": true
   },
   "outputs": [
    {
     "data": {
      "text/plain": [
       "{\"l'id\": 1,\n",
       " 'selon': 2,\n",
       " 'laquel': 1,\n",
       " 'planet': 3,\n",
       " 'inconnu': 1,\n",
       " 'pourr': 1,\n",
       " 'exist': 1,\n",
       " 'entre': 1,\n",
       " 'orbit': 1,\n",
       " 'mar': 1,\n",
       " 'jupit': 1,\n",
       " 'propos': 3,\n",
       " 'premi': 1,\n",
       " 'fois': 1,\n",
       " 'johann': 2,\n",
       " 'elert': 1,\n",
       " 'bod': 1,\n",
       " '1768': 1,\n",
       " 'se': 1,\n",
       " 'suggest': 1,\n",
       " 'bas': 1,\n",
       " 'loi': 3,\n",
       " 'titius-bod': 2,\n",
       " 'théor': 1,\n",
       " 'désorm': 1,\n",
       " 'obsolet': 1,\n",
       " 'daniel': 1,\n",
       " 'titius': 1,\n",
       " '1766': 1,\n",
       " 'cet': 2,\n",
       " 'demi-grand': 1,\n",
       " 'axe': 1,\n",
       " \"d'environ\": 1,\n",
       " '28': 1,\n",
       " 'ua': 1,\n",
       " 'la': 1,\n",
       " 'découvert': 2,\n",
       " \"d'uranus\": 1,\n",
       " 'william': 1,\n",
       " 'herschel': 1,\n",
       " '1781': 1,\n",
       " 'accrut': 1,\n",
       " 'confianc': 1,\n",
       " 'et': 1,\n",
       " '1800': 1,\n",
       " 'vingt-quatr': 1,\n",
       " 'astronom': 1,\n",
       " 'expériment': 1,\n",
       " 'combin': 1,\n",
       " 'leur': 1,\n",
       " 'effort': 1,\n",
       " 'entrepr': 1,\n",
       " 'recherch': 1,\n",
       " 'méthod': 1,\n",
       " 'le': 1,\n",
       " 'group': 1,\n",
       " 'dirig': 1,\n",
       " 'franz': 1,\n",
       " 'xav': 1,\n",
       " 'von': 1,\n",
       " 'zach': 1,\n",
       " 'bien': 1,\n",
       " \"qu'il\": 1,\n",
       " \"n'aient\": 1,\n",
       " 'céres': 1,\n",
       " 'trouv': 1,\n",
       " 'néanmoin': 1,\n",
       " 'plusieur': 1,\n",
       " 'autr': 1,\n",
       " 'astéroïd': 1}"
      ]
     },
     "execution_count": 22,
     "metadata": {},
     "output_type": "execute_result"
    }
   ],
   "source": [
    "# Show an example of a bag of words\n",
    "bows[0]"
   ]
  },
  {
   "cell_type": "markdown",
   "metadata": {},
   "source": [
    "### Process the questions and answers"
   ]
  },
  {
   "cell_type": "code",
   "execution_count": 23,
   "metadata": {},
   "outputs": [],
   "source": [
    "questions = []\n",
    "answers = []\n",
    "id_to_ans = {}\n",
    "for i in range(len(train_df)):\n",
    "    for j in range(len(train_df.iloc[i]['data']['paragraphs'])):\n",
    "        for k in range(len(train_df.iloc[i]['data']['paragraphs'][j]['qas'])):\n",
    "            questions.append(train_df.iloc[i]['data']['paragraphs'][j]['qas'][k]['question'])\n",
    "            answers.append([i,j])\n",
    "        id_to_ans[(i,j)] = len(id_to_ans)\n",
    "            \n",
    "\n",
    "questions = [[stemmer.stem(word) for word in remove_stopwords(question.split())] for question in questions]"
   ]
  },
  {
   "cell_type": "code",
   "execution_count": 24,
   "metadata": {},
   "outputs": [],
   "source": [
    "import random\n",
    "\n",
    "random.Random(42).shuffle(questions)\n",
    "random.Random(42).shuffle(answers)"
   ]
  },
  {
   "cell_type": "markdown",
   "metadata": {},
   "source": [
    "**We will test the shuffling.**"
   ]
  },
  {
   "cell_type": "code",
   "execution_count": 25,
   "metadata": {},
   "outputs": [
    {
     "name": "stdout",
     "output_type": "stream",
     "text": [
      "[['qui', 'a', 'accept', 'product', 'dumbo', 'comm', 'long', 'métrag', '?'], ['quel', 'joueur', 'vient', 'complet', \"l'attaqu\", 'maroon', 'plac', 'siebert', '?'], ['qui', 'gagn', 'championnat', 'mond', 'goodwood', '?'], ['quel', 'deux', 'surnom', \"l'antarct\", '?'], ['quel', 'plus', 'ancien', 'couleur', 'rob', 'persan', '?']] \n",
      " [[30, 9], [68, 5], [10, 17], [4, 0], [89, 8]]\n"
     ]
    }
   ],
   "source": [
    "print(questions[:5], '\\n', answers[:5])"
   ]
  },
  {
   "cell_type": "code",
   "execution_count": 26,
   "metadata": {
    "scrolled": false
   },
   "outputs": [
    {
     "data": {
      "text/plain": [
       "{'qas': [{'question': \"Comment s'appelle le bâtiment fortifié près du port ? \",\n",
       "   'id': 'b315f275-ecc2-4069-a4b5-0f4a6037a9cc',\n",
       "   'answers': [{'text': \"l'abbaye de Saint-Victor\", 'answer_start': 62}]},\n",
       "  {'question': \"Comment s'appelle le duc de Savoie en 1591 ? \",\n",
       "   'id': '4eda5e4b-f6ab-493c-9fc8-fa7cd86f3b8c',\n",
       "   'answers': [{'text': 'Charles Emmanuel', 'answer_start': 9}]},\n",
       "  {'question': 'Quel poste occupe Pierre Bon à Notre-Dame de la Garde ? ',\n",
       "   'id': 'e37fb819-f53c-448c-a92f-818c9cc0af6d',\n",
       "   'answers': [{'text': 'gouverneur', 'answer_start': 160}]},\n",
       "  {'question': \"A quelle date le sieur Méolhon parvient à occuper l'abbaye ? \",\n",
       "   'id': '69cf69bd-260c-40bc-8510-58ac7a00ba7f',\n",
       "   'answers': [{'text': 'la nuit du 16 novembre 1591', 'answer_start': 229}]},\n",
       "  {'question': \"Qui parvient à reprendre l'abbaye au sieur Méolhon ? \",\n",
       "   'id': '7e979854-2122-4833-a446-bf2a57fedeb8',\n",
       "   'answers': [{'text': 'les partisans de Charles de Casaulx',\n",
       "     'answer_start': 327}]}],\n",
       " 'context': \"En 1591, Charles Emmanuel, duc de Savoie, désire s'emparer de l'abbaye de Saint-Victor, bâtiment fortifié près du port. Il charge Pierre Bon, baron de Méolhon, gouverneur de Notre-Dame de la Garde, de s'emparer de l'abbaye. Dans la nuit du 16 novembre 1591 le sieur Méolhon s'empare de l'abbaye qui sera rapidement reprise par les partisans de Charles de Casaulx, premier consul de la ville de Marseille ,.\"}"
      ]
     },
     "execution_count": 26,
     "metadata": {},
     "output_type": "execute_result"
    }
   ],
   "source": [
    "train_df.iloc[8]['data']['paragraphs'][23]"
   ]
  },
  {
   "cell_type": "markdown",
   "metadata": {},
   "source": [
    "**The answers and questions are shuffled the same way.**"
   ]
  },
  {
   "cell_type": "markdown",
   "metadata": {},
   "source": [
    "### Preparing the OKAPI BM25 formula"
   ]
  },
  {
   "cell_type": "code",
   "execution_count": 27,
   "metadata": {},
   "outputs": [],
   "source": [
    "import math\n",
    "\n",
    "NB_DOC = 0\n",
    "\n",
    "for i in range(len(train_df)):\n",
    "    for _ in range(len(train_df.iloc[i]['data']['paragraphs'])):\n",
    "        NB_DOC += 1\n",
    "\n",
    "k1 = 1.6\n",
    "b = 0.75\n",
    "\n",
    "def bow_len(bow):\n",
    "    return sum([bow[key] for key in bow])\n",
    "\n",
    "def average(lst): \n",
    "    return sum(lst) / len(lst) \n",
    "\n",
    "avg_dl = average([bow_len(bow) for bow in bows])\n",
    "\n",
    "def freq_in_doc(word, doc_bow):\n",
    "    \"\"\"\n",
    "    Returns the number of iterations of a given word in a bag of words.\n",
    "    \"\"\"\n",
    "    return doc_bow.get(word, 0)\n",
    "\n",
    "def nb_of_docs(word):\n",
    "    \"\"\"\n",
    "    Returns the number of documents containing a given word.\n",
    "    \"\"\"\n",
    "    ans = 0\n",
    "    \n",
    "    for bow in bows:\n",
    "        if word in bow:\n",
    "            ans += 1\n",
    "    \n",
    "    return ans\n",
    "\n",
    "def idf(word):\n",
    "    \"\"\"\n",
    "    Computes the idf of a word in the entire corpus.\n",
    "    \"\"\"\n",
    "    docs_nb = nb_of_docs(word)\n",
    "    return math.log((NB_DOC - docs_nb + 0.5) / (docs_nb + 0.5) + 1)\n",
    "\n",
    "def single_okapi(word, bow):\n",
    "    \"\"\"\n",
    "    Computes the OKAPI BM25 score relative to a single word.\n",
    "    \"\"\"\n",
    "    freq = freq_in_doc(word, bow)\n",
    "    nb_of_words = bow_len(bow)\n",
    "    \n",
    "    ans = idf(word) * (k1 + 1) * freq / (freq + k1 * (1 - b + b * nb_of_words / avg_dl))\n",
    "    \n",
    "    return ans\n",
    "\n",
    "def okapi_score(question, bow):\n",
    "    \"\"\"\n",
    "    Computes the final OKAPI BM25 score relative to an entire question.\n",
    "    \"\"\"\n",
    "    return sum([single_okapi(word, bow) for word in question])"
   ]
  },
  {
   "cell_type": "code",
   "execution_count": 28,
   "metadata": {},
   "outputs": [
    {
     "name": "stdout",
     "output_type": "stream",
     "text": [
      "['qui', 'a', 'accept', 'product', 'dumbo', 'comm', 'long', 'métrag', '?']\n",
      "0.0\n"
     ]
    }
   ],
   "source": [
    "question = questions[0]\n",
    "print(question)\n",
    "print(okapi_score(question, bows[id_to_ans[(18,14)]]))"
   ]
  },
  {
   "cell_type": "code",
   "execution_count": 29,
   "metadata": {},
   "outputs": [
    {
     "data": {
      "text/plain": [
       "[30, 9]"
      ]
     },
     "execution_count": 29,
     "metadata": {},
     "output_type": "execute_result"
    }
   ],
   "source": [
    "answers[0]"
   ]
  },
  {
   "cell_type": "code",
   "execution_count": 30,
   "metadata": {},
   "outputs": [],
   "source": [
    "def get_best_fit(question):\n",
    "    best_score = 0\n",
    "    best_bow = 0\n",
    "    for i in range(len(bows)):\n",
    "        score = okapi_score(question, bows[i])\n",
    "        \n",
    "        if score > best_score:\n",
    "            best_bow = i\n",
    "            best_score = score\n",
    "            \n",
    "    return best_bow\n",
    "\n",
    "def get_best_fits(question, propositions, text = False):\n",
    "    scores = []\n",
    "    for i in range(len(bows)):\n",
    "        scores.append([i, okapi_score(question, bows[i])])\n",
    "\n",
    "    scores.sort(key = (lambda x: -x[1]))\n",
    "    \n",
    "    if text:\n",
    "        return [(scores[i][1], ' '.join(bows[scores[i][0]].keys())) for i in range(propositions)]\n",
    "\n",
    "    return scores[:propositions]"
   ]
  },
  {
   "cell_type": "markdown",
   "metadata": {},
   "source": [
    "### Testing the method"
   ]
  },
  {
   "cell_type": "code",
   "execution_count": 31,
   "metadata": {},
   "outputs": [
    {
     "data": {
      "text/plain": [
       "[[1109, 26.496052514308325],\n",
       " [1102, 24.855077045111678],\n",
       " [412, 18.512200357543527],\n",
       " [2568, 17.360184845503714],\n",
       " [428, 17.07298847281217]]"
      ]
     },
     "execution_count": 31,
     "metadata": {},
     "output_type": "execute_result"
    }
   ],
   "source": [
    "get_best_fits(question, 5)"
   ]
  },
  {
   "cell_type": "code",
   "execution_count": 32,
   "metadata": {
    "scrolled": true
   },
   "outputs": [
    {
     "data": {
      "text/plain": [
       "[(26.496052514308325,\n",
       "  \"apres avoir accept product dumbo comm long métrag walt a dû fair fac effet ordre chronolog grev studios disney (à part fin mai 1941) voyag amer latin mi-août l'entr guerr états-un on peut auss parl impliqu bamb (1942) dont « croi davantag succes » réalis plus compliqu raison difficult anim façon réalist animal\"),\n",
       " (24.855077045111678,\n",
       "  \"pierr lambert écrit que malgr l'id premi walt disney réalis long métrag d'anim budget réduit peu intervenu personnel product dumbo d'autr raison budgétair toutefois richard shickel film inaugur princip repr plus tard alic pay merveil (1951) pet pan (1953) celui d'un comm court\"),\n",
       " (18.512200357543527,\n",
       "  \"autr élément li nécess trouv fond walt disney abandon droit publiqu musiqu blanche-neig l'éditeur bourn music company détient encor jour ains musical pinocchio dumbo apres mort saul 1957 jimmy johnson têt buen vist record a essai deux fois rachet product anné 1930 1940 premi long métrag silly symphony san succes la veuv refus dispers catalogu cré défunt mar\"),\n",
       " (17.360184845503714,\n",
       "  \"le film aventur winn l'ourson des l'origin l'un élément d'un franchis à list moyen métrag compil john grant ajout court éduc the pooh discover season (1981) quatriem intitul sacr journ bourriquet (1983) distribu sous label disney produit rick reinert product studio déjà sous-trait d'anim principal publicitair télévisuel aucun grand public depuis beb l'océan (1938) personnag central dont c'est l'anniversair selon l'esthet tres fidel illustr original d'e h shepard qualit inférieur leonard maltin confirm l'inférior pour dav smith l'absenc acteur vocal d'origin port atteint la sort a coupl ressort long merlin l'enchanteur (1963) pré-programm sall cinem\"),\n",
       " (17.07298847281217,\n",
       "  \"en 1936 obtenu gestion droit musical silly symphon depuis le trois petit cochon (1933) saul bourn apprend product long métrag négoc chanson film frer disney difficult finalis budget acceptent l'offr roy a fin regret cet décis\")]"
      ]
     },
     "execution_count": 32,
     "metadata": {},
     "output_type": "execute_result"
    }
   ],
   "source": [
    "get_best_fits(question, 5, text = True)"
   ]
  },
  {
   "cell_type": "code",
   "execution_count": 33,
   "metadata": {},
   "outputs": [
    {
     "data": {
      "text/plain": [
       "688"
      ]
     },
     "execution_count": 33,
     "metadata": {},
     "output_type": "execute_result"
    }
   ],
   "source": [
    "id_to_ans[(18,14)]"
   ]
  },
  {
   "cell_type": "code",
   "execution_count": 34,
   "metadata": {
    "scrolled": true
   },
   "outputs": [
    {
     "name": "stderr",
     "output_type": "stream",
     "text": [
      "  0%|          | 0/20731 [00:04<?, ?it/s]\n"
     ]
    },
    {
     "ename": "KeyboardInterrupt",
     "evalue": "",
     "output_type": "error",
     "traceback": [
      "\u001b[1;31m---------------------------------------------------------------------------\u001b[0m",
      "\u001b[1;31mKeyboardInterrupt\u001b[0m                         Traceback (most recent call last)",
      "\u001b[1;32m<ipython-input-34-b1aad5d813e3>\u001b[0m in \u001b[0;36m<module>\u001b[1;34m\u001b[0m\n\u001b[0;32m     11\u001b[0m         \u001b[1;31m#correct += 1\u001b[0m\u001b[1;33m\u001b[0m\u001b[1;33m\u001b[0m\u001b[1;33m\u001b[0m\u001b[0m\n\u001b[0;32m     12\u001b[0m \u001b[1;33m\u001b[0m\u001b[0m\n\u001b[1;32m---> 13\u001b[1;33m     \u001b[0mgood_id\u001b[0m \u001b[1;33m=\u001b[0m \u001b[0mget_best_fits\u001b[0m\u001b[1;33m(\u001b[0m\u001b[0mquestion\u001b[0m\u001b[1;33m,\u001b[0m \u001b[1;36m1\u001b[0m\u001b[1;33m)\u001b[0m\u001b[1;33m[\u001b[0m\u001b[1;36m0\u001b[0m\u001b[1;33m]\u001b[0m\u001b[1;33m[\u001b[0m\u001b[1;36m0\u001b[0m\u001b[1;33m]\u001b[0m\u001b[1;33m\u001b[0m\u001b[1;33m\u001b[0m\u001b[0m\n\u001b[0m\u001b[0;32m     14\u001b[0m \u001b[1;33m\u001b[0m\u001b[0m\n\u001b[0;32m     15\u001b[0m     \u001b[1;32mif\u001b[0m \u001b[0mgood_id\u001b[0m \u001b[1;33m==\u001b[0m \u001b[0mid_to_ans\u001b[0m\u001b[1;33m[\u001b[0m\u001b[0mtuple\u001b[0m\u001b[1;33m(\u001b[0m\u001b[0manswers\u001b[0m\u001b[1;33m[\u001b[0m\u001b[0mi\u001b[0m\u001b[1;33m]\u001b[0m\u001b[1;33m)\u001b[0m\u001b[1;33m]\u001b[0m\u001b[1;33m:\u001b[0m\u001b[1;33m\u001b[0m\u001b[1;33m\u001b[0m\u001b[0m\n",
      "\u001b[1;32m<ipython-input-30-c6f604731db3>\u001b[0m in \u001b[0;36mget_best_fits\u001b[1;34m(question, propositions, text)\u001b[0m\n\u001b[0;32m     14\u001b[0m     \u001b[0mscores\u001b[0m \u001b[1;33m=\u001b[0m \u001b[1;33m[\u001b[0m\u001b[1;33m]\u001b[0m\u001b[1;33m\u001b[0m\u001b[1;33m\u001b[0m\u001b[0m\n\u001b[0;32m     15\u001b[0m     \u001b[1;32mfor\u001b[0m \u001b[0mi\u001b[0m \u001b[1;32min\u001b[0m \u001b[0mrange\u001b[0m\u001b[1;33m(\u001b[0m\u001b[0mlen\u001b[0m\u001b[1;33m(\u001b[0m\u001b[0mbows\u001b[0m\u001b[1;33m)\u001b[0m\u001b[1;33m)\u001b[0m\u001b[1;33m:\u001b[0m\u001b[1;33m\u001b[0m\u001b[1;33m\u001b[0m\u001b[0m\n\u001b[1;32m---> 16\u001b[1;33m         \u001b[0mscores\u001b[0m\u001b[1;33m.\u001b[0m\u001b[0mappend\u001b[0m\u001b[1;33m(\u001b[0m\u001b[1;33m[\u001b[0m\u001b[0mi\u001b[0m\u001b[1;33m,\u001b[0m \u001b[0mokapi_score\u001b[0m\u001b[1;33m(\u001b[0m\u001b[0mquestion\u001b[0m\u001b[1;33m,\u001b[0m \u001b[0mbows\u001b[0m\u001b[1;33m[\u001b[0m\u001b[0mi\u001b[0m\u001b[1;33m]\u001b[0m\u001b[1;33m)\u001b[0m\u001b[1;33m]\u001b[0m\u001b[1;33m)\u001b[0m\u001b[1;33m\u001b[0m\u001b[1;33m\u001b[0m\u001b[0m\n\u001b[0m\u001b[0;32m     17\u001b[0m \u001b[1;33m\u001b[0m\u001b[0m\n\u001b[0;32m     18\u001b[0m     \u001b[0mscores\u001b[0m\u001b[1;33m.\u001b[0m\u001b[0msort\u001b[0m\u001b[1;33m(\u001b[0m\u001b[0mkey\u001b[0m \u001b[1;33m=\u001b[0m \u001b[1;33m(\u001b[0m\u001b[1;32mlambda\u001b[0m \u001b[0mx\u001b[0m\u001b[1;33m:\u001b[0m \u001b[1;33m-\u001b[0m\u001b[0mx\u001b[0m\u001b[1;33m[\u001b[0m\u001b[1;36m1\u001b[0m\u001b[1;33m]\u001b[0m\u001b[1;33m)\u001b[0m\u001b[1;33m)\u001b[0m\u001b[1;33m\u001b[0m\u001b[1;33m\u001b[0m\u001b[0m\n",
      "\u001b[1;32m<ipython-input-27-52099fbed33b>\u001b[0m in \u001b[0;36mokapi_score\u001b[1;34m(question, bow)\u001b[0m\n\u001b[0;32m     58\u001b[0m     \u001b[0mComputes\u001b[0m \u001b[0mthe\u001b[0m \u001b[0mfinal\u001b[0m \u001b[0mOKAPI\u001b[0m \u001b[0mBM25\u001b[0m \u001b[0mscore\u001b[0m \u001b[0mrelative\u001b[0m \u001b[0mto\u001b[0m \u001b[0man\u001b[0m \u001b[0mentire\u001b[0m \u001b[0mquestion\u001b[0m\u001b[1;33m.\u001b[0m\u001b[1;33m\u001b[0m\u001b[1;33m\u001b[0m\u001b[0m\n\u001b[0;32m     59\u001b[0m     \"\"\"\n\u001b[1;32m---> 60\u001b[1;33m     \u001b[1;32mreturn\u001b[0m \u001b[0msum\u001b[0m\u001b[1;33m(\u001b[0m\u001b[1;33m[\u001b[0m\u001b[0msingle_okapi\u001b[0m\u001b[1;33m(\u001b[0m\u001b[0mword\u001b[0m\u001b[1;33m,\u001b[0m \u001b[0mbow\u001b[0m\u001b[1;33m)\u001b[0m \u001b[1;32mfor\u001b[0m \u001b[0mword\u001b[0m \u001b[1;32min\u001b[0m \u001b[0mquestion\u001b[0m\u001b[1;33m]\u001b[0m\u001b[1;33m)\u001b[0m\u001b[1;33m\u001b[0m\u001b[1;33m\u001b[0m\u001b[0m\n\u001b[0m",
      "\u001b[1;32m<ipython-input-27-52099fbed33b>\u001b[0m in \u001b[0;36m<listcomp>\u001b[1;34m(.0)\u001b[0m\n\u001b[0;32m     58\u001b[0m     \u001b[0mComputes\u001b[0m \u001b[0mthe\u001b[0m \u001b[0mfinal\u001b[0m \u001b[0mOKAPI\u001b[0m \u001b[0mBM25\u001b[0m \u001b[0mscore\u001b[0m \u001b[0mrelative\u001b[0m \u001b[0mto\u001b[0m \u001b[0man\u001b[0m \u001b[0mentire\u001b[0m \u001b[0mquestion\u001b[0m\u001b[1;33m.\u001b[0m\u001b[1;33m\u001b[0m\u001b[1;33m\u001b[0m\u001b[0m\n\u001b[0;32m     59\u001b[0m     \"\"\"\n\u001b[1;32m---> 60\u001b[1;33m     \u001b[1;32mreturn\u001b[0m \u001b[0msum\u001b[0m\u001b[1;33m(\u001b[0m\u001b[1;33m[\u001b[0m\u001b[0msingle_okapi\u001b[0m\u001b[1;33m(\u001b[0m\u001b[0mword\u001b[0m\u001b[1;33m,\u001b[0m \u001b[0mbow\u001b[0m\u001b[1;33m)\u001b[0m \u001b[1;32mfor\u001b[0m \u001b[0mword\u001b[0m \u001b[1;32min\u001b[0m \u001b[0mquestion\u001b[0m\u001b[1;33m]\u001b[0m\u001b[1;33m)\u001b[0m\u001b[1;33m\u001b[0m\u001b[1;33m\u001b[0m\u001b[0m\n\u001b[0m",
      "\u001b[1;32m<ipython-input-27-52099fbed33b>\u001b[0m in \u001b[0;36msingle_okapi\u001b[1;34m(word, bow)\u001b[0m\n\u001b[0;32m     50\u001b[0m     \u001b[0mnb_of_words\u001b[0m \u001b[1;33m=\u001b[0m \u001b[0mbow_len\u001b[0m\u001b[1;33m(\u001b[0m\u001b[0mbow\u001b[0m\u001b[1;33m)\u001b[0m\u001b[1;33m\u001b[0m\u001b[1;33m\u001b[0m\u001b[0m\n\u001b[0;32m     51\u001b[0m \u001b[1;33m\u001b[0m\u001b[0m\n\u001b[1;32m---> 52\u001b[1;33m     \u001b[0mans\u001b[0m \u001b[1;33m=\u001b[0m \u001b[0midf\u001b[0m\u001b[1;33m(\u001b[0m\u001b[0mword\u001b[0m\u001b[1;33m)\u001b[0m \u001b[1;33m*\u001b[0m \u001b[1;33m(\u001b[0m\u001b[0mk1\u001b[0m \u001b[1;33m+\u001b[0m \u001b[1;36m1\u001b[0m\u001b[1;33m)\u001b[0m \u001b[1;33m*\u001b[0m \u001b[0mfreq\u001b[0m \u001b[1;33m/\u001b[0m \u001b[1;33m(\u001b[0m\u001b[0mfreq\u001b[0m \u001b[1;33m+\u001b[0m \u001b[0mk1\u001b[0m \u001b[1;33m*\u001b[0m \u001b[1;33m(\u001b[0m\u001b[1;36m1\u001b[0m \u001b[1;33m-\u001b[0m \u001b[0mb\u001b[0m \u001b[1;33m+\u001b[0m \u001b[0mb\u001b[0m \u001b[1;33m*\u001b[0m \u001b[0mnb_of_words\u001b[0m \u001b[1;33m/\u001b[0m \u001b[0mavg_dl\u001b[0m\u001b[1;33m)\u001b[0m\u001b[1;33m)\u001b[0m\u001b[1;33m\u001b[0m\u001b[1;33m\u001b[0m\u001b[0m\n\u001b[0m\u001b[0;32m     53\u001b[0m \u001b[1;33m\u001b[0m\u001b[0m\n\u001b[0;32m     54\u001b[0m     \u001b[1;32mreturn\u001b[0m \u001b[0mans\u001b[0m\u001b[1;33m\u001b[0m\u001b[1;33m\u001b[0m\u001b[0m\n",
      "\u001b[1;32m<ipython-input-27-52099fbed33b>\u001b[0m in \u001b[0;36midf\u001b[1;34m(word)\u001b[0m\n\u001b[0;32m     40\u001b[0m     \u001b[0mComputes\u001b[0m \u001b[0mthe\u001b[0m \u001b[0midf\u001b[0m \u001b[0mof\u001b[0m \u001b[0ma\u001b[0m \u001b[0mword\u001b[0m \u001b[1;32min\u001b[0m \u001b[0mthe\u001b[0m \u001b[0mentire\u001b[0m \u001b[0mcorpus\u001b[0m\u001b[1;33m.\u001b[0m\u001b[1;33m\u001b[0m\u001b[1;33m\u001b[0m\u001b[0m\n\u001b[0;32m     41\u001b[0m     \"\"\"\n\u001b[1;32m---> 42\u001b[1;33m     \u001b[0mdocs_nb\u001b[0m \u001b[1;33m=\u001b[0m \u001b[0mnb_of_docs\u001b[0m\u001b[1;33m(\u001b[0m\u001b[0mword\u001b[0m\u001b[1;33m)\u001b[0m\u001b[1;33m\u001b[0m\u001b[1;33m\u001b[0m\u001b[0m\n\u001b[0m\u001b[0;32m     43\u001b[0m     \u001b[1;32mreturn\u001b[0m \u001b[0mmath\u001b[0m\u001b[1;33m.\u001b[0m\u001b[0mlog\u001b[0m\u001b[1;33m(\u001b[0m\u001b[1;33m(\u001b[0m\u001b[0mNB_DOC\u001b[0m \u001b[1;33m-\u001b[0m \u001b[0mdocs_nb\u001b[0m \u001b[1;33m+\u001b[0m \u001b[1;36m0.5\u001b[0m\u001b[1;33m)\u001b[0m \u001b[1;33m/\u001b[0m \u001b[1;33m(\u001b[0m\u001b[0mdocs_nb\u001b[0m \u001b[1;33m+\u001b[0m \u001b[1;36m0.5\u001b[0m\u001b[1;33m)\u001b[0m \u001b[1;33m+\u001b[0m \u001b[1;36m1\u001b[0m\u001b[1;33m)\u001b[0m\u001b[1;33m\u001b[0m\u001b[1;33m\u001b[0m\u001b[0m\n\u001b[0;32m     44\u001b[0m \u001b[1;33m\u001b[0m\u001b[0m\n",
      "\u001b[1;32m<ipython-input-27-52099fbed33b>\u001b[0m in \u001b[0;36mnb_of_docs\u001b[1;34m(word)\u001b[0m\n\u001b[0;32m     32\u001b[0m     \u001b[1;32mfor\u001b[0m \u001b[0mbow\u001b[0m \u001b[1;32min\u001b[0m \u001b[0mbows\u001b[0m\u001b[1;33m:\u001b[0m\u001b[1;33m\u001b[0m\u001b[1;33m\u001b[0m\u001b[0m\n\u001b[0;32m     33\u001b[0m         \u001b[1;32mif\u001b[0m \u001b[0mword\u001b[0m \u001b[1;32min\u001b[0m \u001b[0mbow\u001b[0m\u001b[1;33m:\u001b[0m\u001b[1;33m\u001b[0m\u001b[1;33m\u001b[0m\u001b[0m\n\u001b[1;32m---> 34\u001b[1;33m             \u001b[0mans\u001b[0m \u001b[1;33m+=\u001b[0m \u001b[1;36m1\u001b[0m\u001b[1;33m\u001b[0m\u001b[1;33m\u001b[0m\u001b[0m\n\u001b[0m\u001b[0;32m     35\u001b[0m \u001b[1;33m\u001b[0m\u001b[0m\n\u001b[0;32m     36\u001b[0m     \u001b[1;32mreturn\u001b[0m \u001b[0mans\u001b[0m\u001b[1;33m\u001b[0m\u001b[1;33m\u001b[0m\u001b[0m\n",
      "\u001b[1;31mKeyboardInterrupt\u001b[0m: "
     ]
    }
   ],
   "source": [
    "correct = 0\n",
    "pool_size = 5\n",
    "\n",
    "iterator = tqdm(range(len(questions)))\n",
    "\n",
    "for i in iterator:\n",
    "    question = questions[i]\n",
    "    #good_ids = [get_best_fits(question, pool_size)[i][0] for i in range(pool_size)]\n",
    "    \n",
    "    #if id_to_ans[tuple(answers[i])] in good_ids:\n",
    "        #correct += 1\n",
    "        \n",
    "    good_id = get_best_fits(question, 1)[0][0]\n",
    "        \n",
    "    if good_id == id_to_ans[tuple(answers[i])]:\n",
    "        correct += 1\n",
    "        \n",
    "    iterator.set_description(str(correct/(i+1)))\n",
    "        \n",
    "correct / len(questions)"
   ]
  },
  {
   "cell_type": "code",
   "execution_count": null,
   "metadata": {
    "scrolled": true
   },
   "outputs": [],
   "source": [
    "correct = 0\n",
    "pool_size = 10\n",
    "\n",
    "iterator = tqdm(range(len(questions)))\n",
    "\n",
    "for i in iterator:\n",
    "    question = questions[i]\n",
    "    good_ids = [get_best_fits(question, pool_size)[i][0] for i in range(pool_size)]\n",
    "    \n",
    "    if id_to_ans[tuple(answers[i])] in good_ids:\n",
    "        correct += 1\n",
    "        \n",
    "    #good_id = get_best_fits(question, 1)[0][0]\n",
    "        \n",
    "    #if good_id == id_to_ans[tuple(answers[i])]:\n",
    "        #correct += 1\n",
    "        \n",
    "    iterator.set_description(str(correct/(i+1)))\n",
    "        \n",
    "correct / len(questions)"
   ]
  },
  {
   "cell_type": "markdown",
   "metadata": {},
   "source": [
    "### Reducing the complexity"
   ]
  },
  {
   "cell_type": "code",
   "execution_count": 35,
   "metadata": {},
   "outputs": [],
   "source": [
    "idf_store = {}\n",
    "\n",
    "for question in questions:\n",
    "    for word in question:\n",
    "        if word in idf_store:\n",
    "            pass\n",
    "        else:\n",
    "            idf_store[word] = idf_store.get(word, idf(word))"
   ]
  },
  {
   "cell_type": "code",
   "execution_count": 36,
   "metadata": {},
   "outputs": [],
   "source": [
    "def single_okapi_opti(word, bow):\n",
    "    \"\"\"\n",
    "    Computes the OKAPI BM25 score relative to a single word.\n",
    "    \"\"\"\n",
    "    freq = freq_in_doc(word, bow)\n",
    "    nb_of_words = bow_len(bow)\n",
    "    \n",
    "    ans = idf_store[word] * (k1 + 1) * freq / (freq + k1 * (1 - b + b * nb_of_words / avg_dl))\n",
    "    \n",
    "    return ans\n",
    "\n",
    "def okapi_score_opti(question, bow):\n",
    "    \"\"\"\n",
    "    Computes the final OKAPI BM25 score relative to an entire question.\n",
    "    \"\"\"\n",
    "    return sum([single_okapi_opti(word, bow) for word in question])\n",
    "\n",
    "def get_best_fits_opti(question, propositions, text = False):\n",
    "    scores = []\n",
    "    for i in range(len(bows)):\n",
    "        scores.append([i, okapi_score_opti(question, bows[i])])\n",
    "\n",
    "    scores.sort(key = (lambda x: -x[1]))\n",
    "    \n",
    "    if text:\n",
    "        return [(scores[i][1], ' '.join(bows[scores[i][0]].keys())) for i in range(propositions)]\n",
    "\n",
    "    return scores[:propositions]"
   ]
  },
  {
   "cell_type": "code",
   "execution_count": 37,
   "metadata": {
    "scrolled": true
   },
   "outputs": [
    {
     "name": "stderr",
     "output_type": "stream",
     "text": [
      "0.4830447156432396: 100%|██████████| 20731/20731 [1:04:50<00:00,  5.33it/s] \n"
     ]
    },
    {
     "data": {
      "text/plain": [
       "0.4830447156432396"
      ]
     },
     "execution_count": 37,
     "metadata": {},
     "output_type": "execute_result"
    }
   ],
   "source": [
    "correct = 0\n",
    "pool_size = 5\n",
    "\n",
    "iterator = tqdm(range(len(questions)))\n",
    "\n",
    "for i in iterator:\n",
    "    question = questions[i]\n",
    "    #good_ids = [get_best_fits(question, pool_size)[i][0] for i in range(pool_size)]\n",
    "    \n",
    "    #if id_to_ans[tuple(answers[i])] in good_ids:\n",
    "        #correct += 1\n",
    "        \n",
    "    good_id = get_best_fits_opti(question, 1)[0][0]\n",
    "        \n",
    "    if good_id == id_to_ans[tuple(answers[i])]:\n",
    "        correct += 1\n",
    "        \n",
    "    iterator.set_description(str(correct/(i+1)))\n",
    "        \n",
    "correct / len(questions)"
   ]
  },
  {
   "cell_type": "code",
   "execution_count": null,
   "metadata": {
    "scrolled": true
   },
   "outputs": [],
   "source": [
    "correct = 0\n",
    "pool_size = 10\n",
    "\n",
    "iterator = tqdm(range(len(questions)))\n",
    "\n",
    "for i in iterator:\n",
    "    question = questions[i]\n",
    "    good_ids = [get_best_fits_opti(question, pool_size)[i][0] for i in range(pool_size)]\n",
    "    \n",
    "    if id_to_ans[tuple(answers[i])] in good_ids:\n",
    "        correct += 1\n",
    "        \n",
    "    #good_id = get_best_fits(question, 1)[0][0]\n",
    "        \n",
    "    #if good_id == id_to_ans[tuple(answers[i])]:\n",
    "        #correct += 1\n",
    "        \n",
    "    iterator.set_description(str(correct/(i+1)))\n",
    "        \n",
    "correct / len(questions)"
   ]
  },
  {
   "cell_type": "markdown",
   "metadata": {},
   "source": [
    "This method is now 20 to 30 times faster."
   ]
  },
  {
   "cell_type": "markdown",
   "metadata": {},
   "source": [
    "## Using CamemBERT"
   ]
  },
  {
   "cell_type": "code",
   "execution_count": 38,
   "metadata": {
    "scrolled": true
   },
   "outputs": [
    {
     "name": "stderr",
     "output_type": "stream",
     "text": [
      "C:\\Users\\nassy\\Anaconda3\\envs\\PyTorch\\lib\\site-packages\\tensorboard\\compat\\tensorflow_stub\\dtypes.py:541: FutureWarning: Passing (type, 1) or '1type' as a synonym of type is deprecated; in a future version of numpy, it will be understood as (type, (1,)) / '(1,)type'.\n",
      "  _np_qint8 = np.dtype([(\"qint8\", np.int8, 1)])\n",
      "C:\\Users\\nassy\\Anaconda3\\envs\\PyTorch\\lib\\site-packages\\tensorboard\\compat\\tensorflow_stub\\dtypes.py:542: FutureWarning: Passing (type, 1) or '1type' as a synonym of type is deprecated; in a future version of numpy, it will be understood as (type, (1,)) / '(1,)type'.\n",
      "  _np_quint8 = np.dtype([(\"quint8\", np.uint8, 1)])\n",
      "C:\\Users\\nassy\\Anaconda3\\envs\\PyTorch\\lib\\site-packages\\tensorboard\\compat\\tensorflow_stub\\dtypes.py:543: FutureWarning: Passing (type, 1) or '1type' as a synonym of type is deprecated; in a future version of numpy, it will be understood as (type, (1,)) / '(1,)type'.\n",
      "  _np_qint16 = np.dtype([(\"qint16\", np.int16, 1)])\n",
      "C:\\Users\\nassy\\Anaconda3\\envs\\PyTorch\\lib\\site-packages\\tensorboard\\compat\\tensorflow_stub\\dtypes.py:544: FutureWarning: Passing (type, 1) or '1type' as a synonym of type is deprecated; in a future version of numpy, it will be understood as (type, (1,)) / '(1,)type'.\n",
      "  _np_quint16 = np.dtype([(\"quint16\", np.uint16, 1)])\n",
      "C:\\Users\\nassy\\Anaconda3\\envs\\PyTorch\\lib\\site-packages\\tensorboard\\compat\\tensorflow_stub\\dtypes.py:545: FutureWarning: Passing (type, 1) or '1type' as a synonym of type is deprecated; in a future version of numpy, it will be understood as (type, (1,)) / '(1,)type'.\n",
      "  _np_qint32 = np.dtype([(\"qint32\", np.int32, 1)])\n",
      "C:\\Users\\nassy\\Anaconda3\\envs\\PyTorch\\lib\\site-packages\\tensorboard\\compat\\tensorflow_stub\\dtypes.py:550: FutureWarning: Passing (type, 1) or '1type' as a synonym of type is deprecated; in a future version of numpy, it will be understood as (type, (1,)) / '(1,)type'.\n",
      "  np_resource = np.dtype([(\"resource\", np.ubyte, 1)])\n",
      "C:\\Users\\nassy\\Anaconda3\\envs\\PyTorch\\lib\\site-packages\\tensorflow\\python\\framework\\dtypes.py:526: FutureWarning: Passing (type, 1) or '1type' as a synonym of type is deprecated; in a future version of numpy, it will be understood as (type, (1,)) / '(1,)type'.\n",
      "  _np_qint8 = np.dtype([(\"qint8\", np.int8, 1)])\n",
      "C:\\Users\\nassy\\Anaconda3\\envs\\PyTorch\\lib\\site-packages\\tensorflow\\python\\framework\\dtypes.py:527: FutureWarning: Passing (type, 1) or '1type' as a synonym of type is deprecated; in a future version of numpy, it will be understood as (type, (1,)) / '(1,)type'.\n",
      "  _np_quint8 = np.dtype([(\"quint8\", np.uint8, 1)])\n",
      "C:\\Users\\nassy\\Anaconda3\\envs\\PyTorch\\lib\\site-packages\\tensorflow\\python\\framework\\dtypes.py:528: FutureWarning: Passing (type, 1) or '1type' as a synonym of type is deprecated; in a future version of numpy, it will be understood as (type, (1,)) / '(1,)type'.\n",
      "  _np_qint16 = np.dtype([(\"qint16\", np.int16, 1)])\n",
      "C:\\Users\\nassy\\Anaconda3\\envs\\PyTorch\\lib\\site-packages\\tensorflow\\python\\framework\\dtypes.py:529: FutureWarning: Passing (type, 1) or '1type' as a synonym of type is deprecated; in a future version of numpy, it will be understood as (type, (1,)) / '(1,)type'.\n",
      "  _np_quint16 = np.dtype([(\"quint16\", np.uint16, 1)])\n",
      "C:\\Users\\nassy\\Anaconda3\\envs\\PyTorch\\lib\\site-packages\\tensorflow\\python\\framework\\dtypes.py:530: FutureWarning: Passing (type, 1) or '1type' as a synonym of type is deprecated; in a future version of numpy, it will be understood as (type, (1,)) / '(1,)type'.\n",
      "  _np_qint32 = np.dtype([(\"qint32\", np.int32, 1)])\n",
      "C:\\Users\\nassy\\Anaconda3\\envs\\PyTorch\\lib\\site-packages\\tensorflow\\python\\framework\\dtypes.py:535: FutureWarning: Passing (type, 1) or '1type' as a synonym of type is deprecated; in a future version of numpy, it will be understood as (type, (1,)) / '(1,)type'.\n",
      "  np_resource = np.dtype([(\"resource\", np.ubyte, 1)])\n"
     ]
    }
   ],
   "source": [
    "from transformers import CamembertForQuestionAnswering, CamembertTokenizer"
   ]
  },
  {
   "cell_type": "code",
   "execution_count": 39,
   "metadata": {},
   "outputs": [],
   "source": [
    "model = CamembertForQuestionAnswering.from_pretrained(\"illuin/camembert-base-fquad\")\n",
    "tokenizer = CamembertTokenizer.from_pretrained(\"illuin/camembert-base-fquad\")"
   ]
  },
  {
   "cell_type": "code",
   "execution_count": 40,
   "metadata": {},
   "outputs": [],
   "source": [
    "# Create a list of documents\n",
    "contexts = []\n",
    "\n",
    "for i in range(len(train_df)):\n",
    "    for j in range(len(train_df.iloc[i]['data']['paragraphs'])):\n",
    "        text = train_df.iloc[i]['data']['paragraphs'][j]['context']\n",
    "        contexts.append(text)"
   ]
  },
  {
   "cell_type": "code",
   "execution_count": 41,
   "metadata": {},
   "outputs": [],
   "source": [
    "encoded_context = [tokenizer.encode(contexts[i]) for i in range(len(contexts))]"
   ]
  },
  {
   "cell_type": "code",
   "execution_count": 42,
   "metadata": {},
   "outputs": [],
   "source": [
    "questions = []\n",
    "answers = []\n",
    "id_to_ans = {}\n",
    "for i in range(len(train_df)):\n",
    "    for j in range(len(train_df.iloc[i]['data']['paragraphs'])):\n",
    "        for k in range(len(train_df.iloc[i]['data']['paragraphs'][j]['qas'])):\n",
    "            questions.append(tokenizer.encode(train_df.iloc[i]['data']['paragraphs'][j]['qas'][k]['question']))\n",
    "            answers.append([i,j])\n",
    "        id_to_ans[(i,j)] = len(id_to_ans)"
   ]
  },
  {
   "cell_type": "code",
   "execution_count": null,
   "metadata": {},
   "outputs": [],
   "source": []
  },
  {
   "cell_type": "code",
   "execution_count": null,
   "metadata": {},
   "outputs": [],
   "source": []
  }
 ],
 "metadata": {
  "kernelspec": {
   "display_name": "Python 3",
   "language": "python",
   "name": "python3"
  },
  "language_info": {
   "codemirror_mode": {
    "name": "ipython",
    "version": 3
   },
   "file_extension": ".py",
   "mimetype": "text/x-python",
   "name": "python",
   "nbconvert_exporter": "python",
   "pygments_lexer": "ipython3",
   "version": "3.7.6"
  }
 },
 "nbformat": 4,
 "nbformat_minor": 4
}