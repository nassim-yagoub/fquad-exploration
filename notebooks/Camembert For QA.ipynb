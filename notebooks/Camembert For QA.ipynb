{
 "cells": [
  {
   "cell_type": "code",
   "execution_count": 1,
   "metadata": {
    "scrolled": true
   },
   "outputs": [
    {
     "name": "stderr",
     "output_type": "stream",
     "text": [
      "C:\\Users\\nassy\\Anaconda3\\envs\\PyTorch\\lib\\site-packages\\tensorboard\\compat\\tensorflow_stub\\dtypes.py:541: FutureWarning: Passing (type, 1) or '1type' as a synonym of type is deprecated; in a future version of numpy, it will be understood as (type, (1,)) / '(1,)type'.\n",
      "  _np_qint8 = np.dtype([(\"qint8\", np.int8, 1)])\n",
      "C:\\Users\\nassy\\Anaconda3\\envs\\PyTorch\\lib\\site-packages\\tensorboard\\compat\\tensorflow_stub\\dtypes.py:542: FutureWarning: Passing (type, 1) or '1type' as a synonym of type is deprecated; in a future version of numpy, it will be understood as (type, (1,)) / '(1,)type'.\n",
      "  _np_quint8 = np.dtype([(\"quint8\", np.uint8, 1)])\n",
      "C:\\Users\\nassy\\Anaconda3\\envs\\PyTorch\\lib\\site-packages\\tensorboard\\compat\\tensorflow_stub\\dtypes.py:543: FutureWarning: Passing (type, 1) or '1type' as a synonym of type is deprecated; in a future version of numpy, it will be understood as (type, (1,)) / '(1,)type'.\n",
      "  _np_qint16 = np.dtype([(\"qint16\", np.int16, 1)])\n",
      "C:\\Users\\nassy\\Anaconda3\\envs\\PyTorch\\lib\\site-packages\\tensorboard\\compat\\tensorflow_stub\\dtypes.py:544: FutureWarning: Passing (type, 1) or '1type' as a synonym of type is deprecated; in a future version of numpy, it will be understood as (type, (1,)) / '(1,)type'.\n",
      "  _np_quint16 = np.dtype([(\"quint16\", np.uint16, 1)])\n",
      "C:\\Users\\nassy\\Anaconda3\\envs\\PyTorch\\lib\\site-packages\\tensorboard\\compat\\tensorflow_stub\\dtypes.py:545: FutureWarning: Passing (type, 1) or '1type' as a synonym of type is deprecated; in a future version of numpy, it will be understood as (type, (1,)) / '(1,)type'.\n",
      "  _np_qint32 = np.dtype([(\"qint32\", np.int32, 1)])\n",
      "C:\\Users\\nassy\\Anaconda3\\envs\\PyTorch\\lib\\site-packages\\tensorboard\\compat\\tensorflow_stub\\dtypes.py:550: FutureWarning: Passing (type, 1) or '1type' as a synonym of type is deprecated; in a future version of numpy, it will be understood as (type, (1,)) / '(1,)type'.\n",
      "  np_resource = np.dtype([(\"resource\", np.ubyte, 1)])\n",
      "C:\\Users\\nassy\\Anaconda3\\envs\\PyTorch\\lib\\site-packages\\tensorflow\\python\\framework\\dtypes.py:526: FutureWarning: Passing (type, 1) or '1type' as a synonym of type is deprecated; in a future version of numpy, it will be understood as (type, (1,)) / '(1,)type'.\n",
      "  _np_qint8 = np.dtype([(\"qint8\", np.int8, 1)])\n",
      "C:\\Users\\nassy\\Anaconda3\\envs\\PyTorch\\lib\\site-packages\\tensorflow\\python\\framework\\dtypes.py:527: FutureWarning: Passing (type, 1) or '1type' as a synonym of type is deprecated; in a future version of numpy, it will be understood as (type, (1,)) / '(1,)type'.\n",
      "  _np_quint8 = np.dtype([(\"quint8\", np.uint8, 1)])\n",
      "C:\\Users\\nassy\\Anaconda3\\envs\\PyTorch\\lib\\site-packages\\tensorflow\\python\\framework\\dtypes.py:528: FutureWarning: Passing (type, 1) or '1type' as a synonym of type is deprecated; in a future version of numpy, it will be understood as (type, (1,)) / '(1,)type'.\n",
      "  _np_qint16 = np.dtype([(\"qint16\", np.int16, 1)])\n",
      "C:\\Users\\nassy\\Anaconda3\\envs\\PyTorch\\lib\\site-packages\\tensorflow\\python\\framework\\dtypes.py:529: FutureWarning: Passing (type, 1) or '1type' as a synonym of type is deprecated; in a future version of numpy, it will be understood as (type, (1,)) / '(1,)type'.\n",
      "  _np_quint16 = np.dtype([(\"quint16\", np.uint16, 1)])\n",
      "C:\\Users\\nassy\\Anaconda3\\envs\\PyTorch\\lib\\site-packages\\tensorflow\\python\\framework\\dtypes.py:530: FutureWarning: Passing (type, 1) or '1type' as a synonym of type is deprecated; in a future version of numpy, it will be understood as (type, (1,)) / '(1,)type'.\n",
      "  _np_qint32 = np.dtype([(\"qint32\", np.int32, 1)])\n",
      "C:\\Users\\nassy\\Anaconda3\\envs\\PyTorch\\lib\\site-packages\\tensorflow\\python\\framework\\dtypes.py:535: FutureWarning: Passing (type, 1) or '1type' as a synonym of type is deprecated; in a future version of numpy, it will be understood as (type, (1,)) / '(1,)type'.\n",
      "  np_resource = np.dtype([(\"resource\", np.ubyte, 1)])\n"
     ]
    }
   ],
   "source": [
    "import numpy as np\n",
    "import pandas as pd\n",
    "import matplotlib.pyplot as plt\n",
    "import torch\n",
    "\n",
    "from tqdm import tqdm\n",
    "\n",
    "from transformers import CamembertForQuestionAnswering, CamembertTokenizer"
   ]
  },
  {
   "cell_type": "markdown",
   "metadata": {},
   "source": [
    "## Loading the data"
   ]
  },
  {
   "cell_type": "code",
   "execution_count": 2,
   "metadata": {},
   "outputs": [],
   "source": [
    "train_df = pd.read_json(\"../data/train.json\")\n",
    "valid_df = pd.read_json(\"../data/valid.json\")"
   ]
  },
  {
   "cell_type": "code",
   "execution_count": 3,
   "metadata": {},
   "outputs": [],
   "source": [
    "model = CamembertForQuestionAnswering.from_pretrained(\"illuin/camembert-base-fquad\", return_dict = True)\n",
    "tokenizer = CamembertTokenizer.from_pretrained(\"illuin/camembert-base-fquad\")"
   ]
  },
  {
   "cell_type": "code",
   "execution_count": 4,
   "metadata": {
    "scrolled": true
   },
   "outputs": [],
   "source": [
    "def create_context(df):\n",
    "    contexts = []\n",
    "    for i in range(len(df)):\n",
    "        for j in range(len(df.iloc[i]['data']['paragraphs'])):\n",
    "            contexts.append(df.iloc[i]['data']['paragraphs'][j]['context'])\n",
    "            \n",
    "    return contexts\n",
    "\n",
    "# Create a list of documents\n",
    "train_contexts = create_context(train_df)\n",
    "valid_contexts = create_context(valid_df)"
   ]
  },
  {
   "cell_type": "code",
   "execution_count": 5,
   "metadata": {},
   "outputs": [],
   "source": [
    "def create_qa(df):\n",
    "    questions, answers = [], []\n",
    "    id_to_ans = {}\n",
    "    for i in range(len(df)):\n",
    "        for j in range(len(df.iloc[i]['data']['paragraphs'])):\n",
    "            for k in range(len(df.iloc[i]['data']['paragraphs'][j]['qas'])):\n",
    "                questions.append(df.iloc[i]['data']['paragraphs'][j]['qas'][k]['question'])\n",
    "                answers.append((i,j))\n",
    "            id_to_ans[(i,j)] = len(id_to_ans)\n",
    "            \n",
    "    return questions, answers, id_to_ans\n",
    "\n",
    "train_q, train_a, train_id_to_ans = create_qa(train_df)\n",
    "valid_q, valid_a, valid_id_to_ans = create_qa(valid_df)"
   ]
  },
  {
   "cell_type": "code",
   "execution_count": 6,
   "metadata": {
    "scrolled": true
   },
   "outputs": [],
   "source": [
    "inputs = tokenizer(train_q[0], train_contexts[0], return_tensors='pt')\n",
    "outputs = model(**inputs)"
   ]
  },
  {
   "cell_type": "code",
   "execution_count": 7,
   "metadata": {
    "scrolled": true
   },
   "outputs": [],
   "source": [
    "loss = outputs.loss\n",
    "start_scores = outputs.start_logits\n",
    "end_scores = outputs.end_logits"
   ]
  },
  {
   "cell_type": "code",
   "execution_count": 21,
   "metadata": {
    "scrolled": true
   },
   "outputs": [
    {
     "data": {
      "text/plain": [
       "tensor([[-5.1259, -5.8077, -5.0375, -5.2039, -5.1382, -5.1136, -5.1713, -5.0823,\n",
       "         -5.5343, -5.1002, -5.1096, -5.0973, -5.0348, -5.3269, -5.0947, -5.0843,\n",
       "         -5.0613, -5.1262, -5.0773, -5.1468, -5.1316, -5.0586, -5.1459, -5.1058,\n",
       "         -5.1489, -5.0493, -5.0796, -4.3796, -5.4184, -4.9754, -4.9541, -5.0099,\n",
       "         -4.5929, -4.7575, -5.0295, -4.9471, -5.1131, -5.0331, -5.1148, -5.0050,\n",
       "         -5.2137, -5.1609, -5.0595, -5.1975, -5.2424, -5.0931, -4.9423, -5.0292,\n",
       "         -4.9916, -5.0120, -5.1879, -4.6993,  6.2430, -3.5208, -5.3572, -3.6778,\n",
       "          0.6845, -3.9091, -4.0111, -5.9940, -6.1293, -4.8997, -4.9923, -5.0891,\n",
       "         -5.0626, -5.0536, -4.9941, -4.9502, -5.0293, -4.8972, -5.0754, -5.0710,\n",
       "         -5.0961, -5.1919, -5.2464, -5.0446, -5.0639, -5.0774, -5.0891, -5.0658,\n",
       "         -5.0487, -4.8058, -5.0543, -5.0040, -5.1911, -5.0978, -5.0203, -5.1460,\n",
       "         -5.1644, -5.2201, -5.0333, -5.0953, -5.0949, -5.4429, -4.9164, -4.8618,\n",
       "         -5.0500, -5.0580, -5.0697, -5.0986, -5.0544, -5.0827, -5.0489, -5.1144,\n",
       "         -4.9667, -5.6091, -5.1021, -4.9731, -5.0920, -5.0716, -5.1780, -5.9057,\n",
       "         -4.8632, -4.9584, -4.9966, -5.6072, -5.0736, -5.1463, -5.0667, -4.8544,\n",
       "         -5.0035, -5.0734, -5.3006, -5.1181, -5.0337, -5.1903, -5.0146, -5.1399,\n",
       "         -5.0696, -5.1065, -5.0928, -5.0540, -5.0807, -5.0983, -5.0845, -5.0986,\n",
       "         -5.0874, -5.1115, -5.1690, -5.1746, -5.1906, -5.0210, -5.0904, -5.7836,\n",
       "         -4.8853, -5.0497, -5.0980, -4.7997, -5.0252, -5.1209, -5.0926, -5.0286,\n",
       "         -5.1300, -5.0897, -5.1201, -5.1194, -5.0666, -5.0955, -5.1445, -5.0632,\n",
       "         -5.0218, -5.1074, -5.0816, -5.0622, -5.0797, -5.1598, -5.1323, -5.3645,\n",
       "         -4.9670, -5.0655, -5.1090, -5.0532, -5.0361, -4.8742, -4.9977, -5.0889,\n",
       "         -5.0368, -5.0547, -5.1771, -6.1538, -5.0523, -5.0183, -5.6100, -5.0513,\n",
       "         -4.9932, -5.6020, -5.0651, -5.0414, -5.0511, -5.0000, -5.0713, -5.1312,\n",
       "         -5.1771, -4.9956, -5.0180, -5.1270, -5.0927, -5.0540, -5.0776, -4.9977,\n",
       "         -5.0776, -5.1638, -6.2276, -5.1664]], grad_fn=<SqueezeBackward1>)"
      ]
     },
     "execution_count": 21,
     "metadata": {},
     "output_type": "execute_result"
    }
   ],
   "source": [
    "start_scores"
   ]
  },
  {
   "cell_type": "code",
   "execution_count": 22,
   "metadata": {
    "scrolled": true
   },
   "outputs": [
    {
     "data": {
      "text/plain": [
       "tensor([[-5.4799, -4.3274, -5.5605, -5.4238, -5.4702, -5.5019, -5.4590, -5.5253,\n",
       "         -5.0705, -5.5151, -5.5045, -5.5173, -5.5660, -5.3068, -5.5209, -5.5218,\n",
       "         -5.5457, -5.4945, -5.5321, -5.4736, -5.4853, -5.5301, -5.4734, -5.4974,\n",
       "         -5.4690, -5.5513, -5.5254, -5.9392, -5.2123, -5.5980, -5.6238, -5.5823,\n",
       "         -5.8408, -5.7297, -5.5585, -5.6334, -5.4911, -5.5595, -5.4949, -5.5758,\n",
       "         -5.4033, -5.4541, -5.5054, -5.4253, -5.3456, -5.5043, -5.6256, -5.5698,\n",
       "         -5.5895, -5.5656, -5.4197, -5.7629,  0.9700, -5.7229, -2.8482, -5.3262,\n",
       "          6.1737, -6.0650, -6.0564, -2.1825, -3.1971, -5.6617, -5.5950, -5.5251,\n",
       "         -5.5421, -5.5458, -5.5864, -5.6193, -5.5573, -5.6554, -5.5210, -5.5247,\n",
       "         -5.5101, -5.4168, -5.3878, -5.5588, -5.5398, -5.5364, -5.5256, -5.5453,\n",
       "         -5.5533, -5.7167, -5.5457, -5.5847, -5.4174, -5.5187, -5.5762, -5.4745,\n",
       "         -5.4612, -5.4145, -5.5670, -5.5201, -5.5191, -5.1960, -5.6496, -5.6847,\n",
       "         -5.5497, -5.5444, -5.5352, -5.5157, -5.5527, -5.5192, -5.5591, -5.5039,\n",
       "         -5.6119, -4.9617, -5.5137, -5.6102, -5.5191, -5.5368, -5.4419, -4.4834,\n",
       "         -5.6872, -5.6174, -5.5889, -4.9639, -5.5334, -5.4658, -5.5366, -5.6878,\n",
       "         -5.5825, -5.5285, -5.3095, -5.4988, -5.5644, -5.4318, -5.5870, -5.4872,\n",
       "         -5.5410, -5.5106, -5.5232, -5.5536, -5.5321, -5.5162, -5.5282, -5.5152,\n",
       "         -5.5231, -5.5053, -5.4552, -5.4577, -5.4386, -5.5764, -5.5246, -4.7161,\n",
       "         -5.6728, -5.5512, -5.5144, -5.7199, -5.5617, -5.4911, -5.5197, -5.5746,\n",
       "         -5.4941, -5.5246, -5.4982, -5.5024, -5.5457, -5.5227, -5.4814, -5.5450,\n",
       "         -5.5770, -5.5085, -5.5322, -5.5479, -5.5271, -5.4674, -5.4903, -5.2666,\n",
       "         -5.6101, -5.5366, -5.5090, -5.5523, -5.5606, -5.6750, -5.5910, -5.5188,\n",
       "         -5.5583, -5.5458, -5.4388, -3.7193, -5.5568, -5.5814, -4.9608, -5.5554,\n",
       "         -5.5974, -4.9729, -5.5465, -5.5594, -5.5541, -5.5916, -5.5349, -5.4843,\n",
       "         -5.4521, -5.5979, -5.5807, -5.4965, -5.5266, -5.5539, -5.5352, -5.5923,\n",
       "         -5.5288, -5.4533, -3.0164, -5.4450]], grad_fn=<SqueezeBackward1>)"
      ]
     },
     "execution_count": 22,
     "metadata": {},
     "output_type": "execute_result"
    }
   ],
   "source": [
    "end_scores"
   ]
  },
  {
   "cell_type": "code",
   "execution_count": 11,
   "metadata": {
    "scrolled": true
   },
   "outputs": [
    {
     "data": {
      "text/plain": [
       "52"
      ]
     },
     "execution_count": 11,
     "metadata": {},
     "output_type": "execute_result"
    }
   ],
   "source": [
    "np.argmax(list(start_scores[0]))"
   ]
  },
  {
   "cell_type": "code",
   "execution_count": 12,
   "metadata": {},
   "outputs": [
    {
     "data": {
      "text/plain": [
       "56"
      ]
     },
     "execution_count": 12,
     "metadata": {},
     "output_type": "execute_result"
    }
   ],
   "source": [
    "np.argmax(list(end_scores[0]))"
   ]
  },
  {
   "cell_type": "code",
   "execution_count": 18,
   "metadata": {},
   "outputs": [
    {
     "data": {
      "text/plain": [
       "'Johann Elert Bod'"
      ]
     },
     "execution_count": 18,
     "metadata": {},
     "output_type": "execute_result"
    }
   ],
   "source": [
    "tokenizer.decode(list(inputs['input_ids'][0])[52:56])"
   ]
  },
  {
   "cell_type": "code",
   "execution_count": 20,
   "metadata": {},
   "outputs": [
    {
     "data": {
      "text/plain": [
       "(tensor(6.2430, grad_fn=<SelectBackward>),\n",
       " tensor(6.1737, grad_fn=<SelectBackward>))"
      ]
     },
     "execution_count": 20,
     "metadata": {},
     "output_type": "execute_result"
    }
   ],
   "source": [
    "start_scores[0,52], end_scores[0,56]"
   ]
  }
 ],
 "metadata": {
  "kernelspec": {
   "display_name": "Python 3",
   "language": "python",
   "name": "python3"
  },
  "language_info": {
   "codemirror_mode": {
    "name": "ipython",
    "version": 3
   },
   "file_extension": ".py",
   "mimetype": "text/x-python",
   "name": "python",
   "nbconvert_exporter": "python",
   "pygments_lexer": "ipython3",
   "version": "3.7.6"
  }
 },
 "nbformat": 4,
 "nbformat_minor": 4
}
